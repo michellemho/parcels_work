{
 "cells": [
  {
   "cell_type": "markdown",
   "metadata": {},
   "source": [
    "Figure 1. Preliminary simulation of the dispersal of coral reef fish released in Florida. Cyan and red lines represent trajectories of fish that settled and did not settle, respectively. We track the fish from every release date to 78 days, and any fish within 2km of original release locations after 31 days are deemed \"settled\".\n",
    "\n",
    "Simulating two different periods of release dates:\n",
    "\n",
    "1. 17 April 2007 - 11 Sept 2007\n",
    "2. 6 April 2008 - 30 Sept 2008\n",
    "\n",
    "Time step is every 6 hours"
   ]
  },
  {
   "cell_type": "code",
   "execution_count": 1,
   "metadata": {
    "collapsed": true
   },
   "outputs": [],
   "source": [
    "from parcels import FieldSet, ParticleSet, JITParticle, AdvectionRK4, plotTrajectoriesFile, ErrorCode\n",
    "from datetime import timedelta\n",
    "import datetime\n",
    "import numpy as np\n",
    "from scipy.io import netcdf\n",
    "from netCDF4 import Dataset\n",
    "import pandas as pd\n",
    "\n",
    "from mpl_toolkits.basemap import Basemap\n",
    "\n",
    "import cartoframes\n",
    "\n",
    "# import urllib2\n",
    "# import StringIO\n",
    "# import csv\n",
    "import numpy as np\n",
    "# import scipy.interpolate\n",
    "import matplotlib.pyplot as plt\n",
    "# import pickle as pickle\n",
    "\n",
    "# first doing 2007\n",
    "filenames = {'U': \"florida_currents/2008_currents/*zu.nc\",\n",
    "             'V': \"florida_currents/2008_currents/*zv.nc\"}"
   ]
  },
  {
   "cell_type": "code",
   "execution_count": 2,
   "metadata": {
    "scrolled": true
   },
   "outputs": [
    {
     "ename": "IOError",
     "evalue": "[Errno 2] No such file or directory: 'florida_currents/2008_currents/902_archv.2008_191_06_3zu.nc'",
     "output_type": "error",
     "traceback": [
      "\u001b[0;31m-------------------------------------------------------------------------\u001b[0m",
      "\u001b[0;31mIOError\u001b[0m                                 Traceback (most recent call last)",
      "\u001b[0;32m<ipython-input-2-1ad8f636362e>\u001b[0m in \u001b[0;36m<module>\u001b[0;34m()\u001b[0m\n\u001b[1;32m      1\u001b[0m \u001b[0;31m# Check to see what time, depth, lat, and lon are called from a single file\u001b[0m\u001b[0;34m\u001b[0m\u001b[0;34m\u001b[0m\u001b[0m\n\u001b[0;32m----> 2\u001b[0;31m \u001b[0mpfile\u001b[0m \u001b[0;34m=\u001b[0m \u001b[0mDataset\u001b[0m\u001b[0;34m(\u001b[0m\u001b[0;34m'florida_currents/2008_currents/902_archv.2008_191_06_3zu.nc'\u001b[0m\u001b[0;34m,\u001b[0m \u001b[0;34m'r'\u001b[0m\u001b[0;34m)\u001b[0m\u001b[0;34m\u001b[0m\u001b[0m\n\u001b[0m\u001b[1;32m      3\u001b[0m \u001b[0mpfile\u001b[0m\u001b[0;34m.\u001b[0m\u001b[0mdimensions\u001b[0m\u001b[0;34m\u001b[0m\u001b[0m\n",
      "\u001b[0;32mnetCDF4/_netCDF4.pyx\u001b[0m in \u001b[0;36mnetCDF4._netCDF4.Dataset.__init__\u001b[0;34m()\u001b[0m\n",
      "\u001b[0;32mnetCDF4/_netCDF4.pyx\u001b[0m in \u001b[0;36mnetCDF4._netCDF4._ensure_nc_success\u001b[0;34m()\u001b[0m\n",
      "\u001b[0;31mIOError\u001b[0m: [Errno 2] No such file or directory: 'florida_currents/2008_currents/902_archv.2008_191_06_3zu.nc'"
     ]
    }
   ],
   "source": [
    "# Check to see what time, depth, lat, and lon are called from a single file\n",
    "pfile = Dataset('fl/2008_currents/902_archv.2008_191_06_3zu.nc', 'r')\n",
    "pfile.dimensions"
   ]
  },
  {
   "cell_type": "code",
   "execution_count": null,
   "metadata": {
    "collapsed": true
   },
   "outputs": [],
   "source": [
    "d = np.array(pfile.variables['precip'], dtype=type(nc.variables))"
   ]
  },
  {
   "cell_type": "code",
   "execution_count": 93,
   "metadata": {},
   "outputs": [
    {
     "data": {
      "text/plain": [
       "collections.OrderedDict"
      ]
     },
     "execution_count": 93,
     "metadata": {},
     "output_type": "execute_result"
    }
   ],
   "source": [
    "type(pfile.variables)"
   ]
  },
  {
   "cell_type": "code",
   "execution_count": 7,
   "metadata": {
    "collapsed": true
   },
   "outputs": [],
   "source": [
    "variables = {'U': 'u',\n",
    "             'V': 'v'}\n",
    "dimensions = {'time': 'MT','depth': 'Depth',\n",
    "              'lat': 'Latitude',\n",
    "              'lon': 'Longitude'}"
   ]
  },
  {
   "cell_type": "code",
   "execution_count": 39,
   "metadata": {
    "collapsed": true
   },
   "outputs": [],
   "source": [
    "# if something wrong with time of fields... use allow_time_extrapolation = True\n",
    "fieldset = FieldSet.from_netcdf(filenames, variables, dimensions, allow_time_extrapolation=True)"
   ]
  },
  {
   "cell_type": "code",
   "execution_count": 40,
   "metadata": {
    "scrolled": false
   },
   "outputs": [
    {
     "data": {
      "text/plain": [
       "-43200.0"
      ]
     },
     "execution_count": 40,
     "metadata": {},
     "output_type": "execute_result"
    }
   ],
   "source": [
    "3345148800.0 - 3345192000.0"
   ]
  },
  {
   "cell_type": "code",
   "execution_count": 11,
   "metadata": {
    "scrolled": true
   },
   "outputs": [
    {
     "name": "stdout",
     "output_type": "stream",
     "text": [
      "147 days, 0:00:00\n",
      "177 days, 0:00:00\n"
     ]
    }
   ],
   "source": [
    "# Number of simulations\n",
    "print(datetime.date(2007,9,11) - datetime.date(2007,4,17))\n",
    "print(datetime.date(2008,9,30) - datetime.date(2008,4,6))"
   ]
  },
  {
   "cell_type": "code",
   "execution_count": 57,
   "metadata": {
    "scrolled": true
   },
   "outputs": [
    {
     "data": {
      "text/plain": [
       "3345148800.0"
      ]
     },
     "execution_count": 57,
     "metadata": {},
     "output_type": "execute_result"
    }
   ],
   "source": [
    "fieldset.U.grid.time[0]"
   ]
  },
  {
   "cell_type": "code",
   "execution_count": 50,
   "metadata": {
    "scrolled": true
   },
   "outputs": [
    {
     "data": {
      "text/plain": [
       "datetime.date(2007, 1, 1)"
      ]
     },
     "execution_count": 50,
     "metadata": {},
     "output_type": "execute_result"
    }
   ],
   "source": [
    "datetime.date(1900,12,31) + datetime.timedelta(seconds = 3345148800)"
   ]
  },
  {
   "cell_type": "code",
   "execution_count": 74,
   "metadata": {
    "scrolled": true
   },
   "outputs": [
    {
     "data": {
      "text/plain": [
       "424"
      ]
     },
     "execution_count": 74,
     "metadata": {},
     "output_type": "execute_result"
    }
   ],
   "source": [
    "dt = datetime.date(2007,4,17) - datetime.date(2007, 1, 1)\n",
    "# how many 6 hour intervals from january 1 2007 to april 17 2007?\n",
    "dt.days * 24/6"
   ]
  },
  {
   "cell_type": "code",
   "execution_count": 98,
   "metadata": {},
   "outputs": [
    {
     "ename": "IndexError",
     "evalue": "index 424 is out of bounds for axis 0 with size 400",
     "output_type": "error",
     "traceback": [
      "\u001b[0;31m-------------------------------------------------------------------------\u001b[0m",
      "\u001b[0;31mIndexError\u001b[0m                              Traceback (most recent call last)",
      "\u001b[0;32m<ipython-input-98-6bccc4889f6f>\u001b[0m in \u001b[0;36m<module>\u001b[0;34m()\u001b[0m\n\u001b[0;32m----> 1\u001b[0;31m \u001b[0mfieldset\u001b[0m\u001b[0;34m.\u001b[0m\u001b[0mU\u001b[0m\u001b[0;34m.\u001b[0m\u001b[0mgrid\u001b[0m\u001b[0;34m.\u001b[0m\u001b[0mtime\u001b[0m\u001b[0;34m[\u001b[0m\u001b[0;36m424\u001b[0m\u001b[0;34m]\u001b[0m\u001b[0;34m\u001b[0m\u001b[0m\n\u001b[0m",
      "\u001b[0;31mIndexError\u001b[0m: index 424 is out of bounds for axis 0 with size 400"
     ]
    }
   ],
   "source": [
    "fieldset.U.grid.time[424]"
   ]
  },
  {
   "cell_type": "code",
   "execution_count": 12,
   "metadata": {
    "collapsed": true
   },
   "outputs": [],
   "source": [
    "def DeleteParticle(particle, fieldset, time, dt):\n",
    "    particle.delete()"
   ]
  },
  {
   "cell_type": "code",
   "execution_count": 14,
   "metadata": {
    "collapsed": true
   },
   "outputs": [],
   "source": [
    "release_locations = pd.read_csv('florida_currents/release_FL.csv', header=None, names=['code','latitude','longitude'])\n",
    "lat = release_locations['latitude']\n",
    "lon = release_locations['longitude']"
   ]
  },
  {
   "cell_type": "code",
   "execution_count": 41,
   "metadata": {
    "collapsed": true
   },
   "outputs": [],
   "source": [
    "pset = ParticleSet(fieldset=fieldset, pclass=JITParticle, lon=lon, lat=lat)\n",
    "# #To release 100 particles instead of 1 particle per location. \n",
    "# pset = ParticleSet(fieldset=fieldset, pclass=JITParticle, lon=lonx100, lat=latx100)"
   ]
  },
  {
   "cell_type": "code",
   "execution_count": 42,
   "metadata": {
    "scrolled": true
   },
   "outputs": [
    {
     "name": "stderr",
     "output_type": "stream",
     "text": [
      "INFO: Compiled JITParticleAdvectionRK4 ==> /var/folders/9x/568tyy852nx2b_w5rr1vwr8r0000gn/T/parcels-501/b83af43cacda996ce2792b7fcd749de5.so\n"
     ]
    }
   ],
   "source": [
    "# Trying to advect the particles for 78 days with dt 6 hours\n",
    "pset.execute(AdvectionRK4,\n",
    "             runtime=timedelta(days=78),  # runtime controls the interval of the plots\n",
    "             dt=timedelta(hours=6),\n",
    "             recovery={ErrorCode.ErrorOutOfBounds: DeleteParticle},\n",
    "             # the file name and the time step of the outputs) \n",
    "             output_file=pset.ParticleFile(name=\"release78\",\n",
    "                                           outputdt=timedelta(hours=6)))  "
   ]
  },
  {
   "cell_type": "code",
   "execution_count": 43,
   "metadata": {
    "scrolled": false
   },
   "outputs": [
    {
     "data": {
      "image/png": "[encoded data removed]",
      "text/plain": [
       "<matplotlib.figure.Figure at 0x1a18313a50>"
      ]
     },
     "metadata": {},
     "output_type": "display_data"
    },
    {
     "data": {
      "text/plain": [
       "<module 'matplotlib.pyplot' from '/Users/michelleho/miniconda2/envs/py2_parcels/lib/python2.7/site-packages/matplotlib/pyplot.pyc'>"
      ]
     },
     "execution_count": 43,
     "metadata": {},
     "output_type": "execute_result"
    }
   ],
   "source": [
    "plotTrajectoriesFile('release78.nc')"
   ]
  },
  {
   "cell_type": "code",
   "execution_count": 18,
   "metadata": {
    "collapsed": true
   },
   "outputs": [],
   "source": [
    "f = Dataset('release78.nc')"
   ]
  },
  {
   "cell_type": "markdown",
   "metadata": {},
   "source": [
    "# Parsing data"
   ]
  },
  {
   "cell_type": "code",
   "execution_count": 45,
   "metadata": {
    "collapsed": true
   },
   "outputs": [],
   "source": [
    "f = Dataset('release78.nc')\n"
   ]
  },
  {
   "cell_type": "code",
   "execution_count": 94,
   "metadata": {},
   "outputs": [
    {
     "data": {
      "text/plain": [
       "OrderedDict([(u'obs',\n",
       "              <type 'netCDF4._netCDF4.Dimension'> (unlimited): name = 'obs', size = 313),\n",
       "             (u'trajectory',\n",
       "              <type 'netCDF4._netCDF4.Dimension'>: name = 'trajectory', size = 273)])"
      ]
     },
     "execution_count": 94,
     "metadata": {},
     "output_type": "execute_result"
    }
   ],
   "source": [
    "f.dimensions"
   ]
  },
  {
   "cell_type": "code",
   "execution_count": null,
   "metadata": {
    "collapsed": true
   },
   "outputs": [],
   "source": [
    "lat = f.variables['lat'][:]\n",
    "lon = f.variables['lon'][:]\n",
    "time_var = f.variables['time']\n",
    "dtime = netCDF4.num2date(time_var[:],time_var.units)\n",
    "precip = nc.variables['precip'][:]\n",
    "\n",
    "# a pandas.Series designed for time series of a 2D lat,lon grid\n",
    "precip_ts = pd.Series(precip, index=dtime) \n",
    "\n",
    "precip_ts.to_csv('precip.csv',index=True, header=True)"
   ]
  },
  {
   "cell_type": "code",
   "execution_count": 95,
   "metadata": {
    "collapsed": true,
    "scrolled": true
   },
   "outputs": [],
   "source": [
    "# restructure the data from NC file to Dataframe\n",
    "f = Dataset('release78.nc')\n",
    "\n",
    "newdata = []\n",
    "for n, idx in enumerate(f.variables['trajectory'][:]):\n",
    "    for i, t in enumerate(f.variables['time'][:][0]):\n",
    "        newdata.append([n, t, \n",
    "                        f.variables['lat'][:][n, i], \n",
    "                        f.variables['lon'][:][n, i]])\n",
    "df = pd.DataFrame.from_records(newdata, columns=['idx', 'time', 'lat', 'lon'])"
   ]
  },
  {
   "cell_type": "code",
   "execution_count": 96,
   "metadata": {
    "scrolled": false
   },
   "outputs": [
    {
     "data": {
      "text/html": [
       "<div>\n",
       "<style scoped>\n",
       "    .dataframe tbody tr th:only-of-type {\n",
       "        vertical-align: middle;\n",
       "    }\n",
       "\n",
       "    .dataframe tbody tr th {\n",
       "        vertical-align: top;\n",
       "    }\n",
       "\n",
       "    .dataframe thead th {\n",
       "        text-align: right;\n",
       "    }\n",
       "</style>\n",
       "<table border=\"1\" class=\"dataframe\">\n",
       "  <thead>\n",
       "    <tr style=\"text-align: right;\">\n",
       "      <th></th>\n",
       "      <th>idx</th>\n",
       "      <th>time</th>\n",
       "      <th>lat</th>\n",
       "      <th>lon</th>\n",
       "    </tr>\n",
       "  </thead>\n",
       "  <tbody>\n",
       "    <tr>\n",
       "      <th>0</th>\n",
       "      <td>0</td>\n",
       "      <td>3.34515e+09</td>\n",
       "      <td>24.99</td>\n",
       "      <td>-80.37</td>\n",
       "    </tr>\n",
       "    <tr>\n",
       "      <th>1</th>\n",
       "      <td>0</td>\n",
       "      <td>--</td>\n",
       "      <td>--</td>\n",
       "      <td>--</td>\n",
       "    </tr>\n",
       "    <tr>\n",
       "      <th>2</th>\n",
       "      <td>0</td>\n",
       "      <td>3.34519e+09</td>\n",
       "      <td>25.3157</td>\n",
       "      <td>-80.1642</td>\n",
       "    </tr>\n",
       "    <tr>\n",
       "      <th>3</th>\n",
       "      <td>0</td>\n",
       "      <td>3.34521e+09</td>\n",
       "      <td>25.4517</td>\n",
       "      <td>-80.1226</td>\n",
       "    </tr>\n",
       "    <tr>\n",
       "      <th>4</th>\n",
       "      <td>0</td>\n",
       "      <td>--</td>\n",
       "      <td>--</td>\n",
       "      <td>--</td>\n",
       "    </tr>\n",
       "  </tbody>\n",
       "</table>\n",
       "</div>"
      ],
      "text/plain": [
       "   idx         time      lat      lon\n",
       "0    0  3.34515e+09    24.99   -80.37\n",
       "1    0           --       --       --\n",
       "2    0  3.34519e+09  25.3157 -80.1642\n",
       "3    0  3.34521e+09  25.4517 -80.1226\n",
       "4    0           --       --       --"
      ]
     },
     "execution_count": 96,
     "metadata": {},
     "output_type": "execute_result"
    }
   ],
   "source": [
    "df.head()"
   ]
  },
  {
   "cell_type": "code",
   "execution_count": 97,
   "metadata": {},
   "outputs": [
    {
     "data": {
      "text/plain": [
       "3345192000.0"
      ]
     },
     "execution_count": 97,
     "metadata": {},
     "output_type": "execute_result"
    }
   ],
   "source": [
    "df.time.iloc[2]"
   ]
  },
  {
   "cell_type": "markdown",
   "metadata": {},
   "source": [
    "# Settlement Behavior"
   ]
  },
  {
   "cell_type": "code",
   "execution_count": 22,
   "metadata": {
    "collapsed": true
   },
   "outputs": [],
   "source": [
    "# Credentials hidden\n",
    "cc = cartoframes.CartoContext()"
   ]
  },
  {
   "cell_type": "code",
   "execution_count": 23,
   "metadata": {
    "scrolled": false
   },
   "outputs": [
    {
     "name": "stderr",
     "output_type": "stream",
     "text": [
      "/Users/michelleho/miniconda2/envs/py2_parcels/lib/python2.7/site-packages/carto/resources.py:90: FutureWarning: This is part of a non-public CARTO API and may change in the future. Take this into account if you are using this in a production environment\n",
      "  warnings.warn('This is part of a non-public CARTO API and may change in the future. Take this into account if you are using this in a production environment', FutureWarning)\n"
     ]
    },
    {
     "name": "stdout",
     "output_type": "stream",
     "text": [
      "Table successfully written to CARTO: https://michellemho-carto.carto.com/dataset/trajectories_preliminary\n",
      "`the_geom` column is being populated from `('lon', 'lat')`. Check the status of the operation with:\n",
      "    \u001b[1mBatchJobStatus(CartoContext(), '8a562089-1b9a-4b29-b867-8d494705e85d').status()\u001b[0m\n",
      "or try reading the table from CARTO in a couple of minutes.\n",
      "\u001b[1mNote:\u001b[0m `CartoContext.map` will not work on this table until its geometries are created.\n"
     ]
    },
    {
     "data": {
      "text/plain": [
       "BatchJobStatus(job_id='8a562089-1b9a-4b29-b867-8d494705e85d', last_status='pending', created_at='2018-08-02T19:53:19.395Z')"
      ]
     },
     "execution_count": 23,
     "metadata": {},
     "output_type": "execute_result"
    }
   ],
   "source": [
    "cc.write(df,'trajectories_preliminary', lnglat=('lon','lat'), overwrite=True)"
   ]
  },
  {
   "cell_type": "code",
   "execution_count": 26,
   "metadata": {
    "collapsed": true
   },
   "outputs": [],
   "source": [
    "release_locations = pd.read_csv('florida_currents/release_FL.csv', header=None, names=['code','latitude','longitude'])"
   ]
  },
  {
   "cell_type": "code",
   "execution_count": 27,
   "metadata": {
    "scrolled": true
   },
   "outputs": [
    {
     "name": "stdout",
     "output_type": "stream",
     "text": [
      "Table successfully written to CARTO: https://michellemho-carto.carto.com/dataset/fl_release_sites\n"
     ]
    }
   ],
   "source": [
    "cc.write(release_locations, 'fl_release_sites', overwrite=True)"
   ]
  },
  {
   "cell_type": "code",
   "execution_count": null,
   "metadata": {
    "collapsed": true
   },
   "outputs": [],
   "source": []
  },
  {
   "cell_type": "code",
   "execution_count": 78,
   "metadata": {
    "collapsed": true,
    "scrolled": true
   },
   "outputs": [],
   "source": [
    "day0 = 3345148800.0\n",
    "day30 = day0 + (60 * 60 * 24 * 30)"
   ]
  },
  {
   "cell_type": "code",
   "execution_count": null,
   "metadata": {
    "collapsed": true
   },
   "outputs": [],
   "source": [
    "day30 = "
   ]
  },
  {
   "cell_type": "code",
   "execution_count": null,
   "metadata": {
    "collapsed": true
   },
   "outputs": [],
   "source": [
    "settled_idx_query = '''\n",
    "WITH day31 AS (SELECT idx, the_geom, the_geom_webmercator FROM trajectories_preliminary WHERE time = '35337600.0')\n",
    "SELECT distinct(day45.idx)\n",
    "FROM day31 INNER JOIN release_sites ON ST_Intersects(day45.the_geom_webmercator, ST_Buffer(ST_transform(ST_SetSRID(release_sites.the_geom,4326),3857), 5))\n",
    "'''"
   ]
  },
  {
   "cell_type": "code",
   "execution_count": null,
   "metadata": {
    "collapsed": true
   },
   "outputs": [],
   "source": [
    "settled_idx = cc.query(settled_idx_query)"
   ]
  },
  {
   "cell_type": "markdown",
   "metadata": {},
   "source": [
    "# Map trajectories with basemap"
   ]
  },
  {
   "cell_type": "code",
   "execution_count": null,
   "metadata": {
    "collapsed": true
   },
   "outputs": [],
   "source": [
    "pfile = Dataset('ReefRelease_45days.nc', 'r')"
   ]
  },
  {
   "cell_type": "code",
   "execution_count": 177,
   "metadata": {
    "scrolled": false
   },
   "outputs": [
    {
     "data": {
      "image/png": "[encoded data removed]",
      "text/plain": [
       "<matplotlib.figure.Figure at 0x1b08e23950>"
      ]
     },
     "metadata": {},
     "output_type": "display_data"
    }
   ],
   "source": [
    "import numpy as np\n",
    "from netCDF4 import Dataset\n",
    "import matplotlib.pyplot as plt\n",
    "from mpl_toolkits.basemap import Basemap\n",
    "%matplotlib inline\n",
    "\n",
    "pfile = Dataset('ReefRelease_45days.nc', 'r')\n",
    "bath_data = Dataset('../HAWc0.04_depth.cdf')\n",
    "\n",
    "lon = pfile.variables['lon']\n",
    "lat = pfile.variables['lat']\n",
    "idx = pfile.variables['trajectory']\n",
    "\n",
    "# Set up the figure, change figsize as needed\n",
    "plt.figure(figsize=(12,6))\n",
    "\n",
    "# Set up mapper with a Basemap of coastal boundaries for Hawaii\n",
    "mapper = Basemap(projection='merc',\n",
    "                 llcrnrlon=360+np.nanmin(lon),\n",
    "                 llcrnrlat=15.272645,\n",
    "                 urcrnrlon=360+np.nanmax(lon),\n",
    "                 urcrnrlat=29.9139,\n",
    "                 resolution='i')\n",
    "mapper.drawmapboundary()\n",
    "mapper.drawcoastlines()\n",
    "mapper.fillcontinents(color='coral',lake_color='aqua')\n",
    "\n",
    "\n",
    "# plot each trajectory separately, in gold color\n",
    "# documentation: https://matplotlib.org/basemap/index.html\n",
    "for i, value in enumerate(idx):\n",
    "    lons = lon[:][i]\n",
    "    lats = lat[:][i]\n",
    "    if i in settled_idx.idx.values:\n",
    "        color = 'cyan'\n",
    "        zorder = 2\n",
    "    else:\n",
    "        color = 'red'\n",
    "        zorder = 1\n",
    "    mapper.plot(np.array(lons), np.array(lats), latlon=True, color=color, zorder=zorder)\n",
    "\n",
    "# Set up processing for bathymetry data\n",
    "lats = bath_data.variables['Y_B'][:]\n",
    "lons = bath_data.variables['X_B'][:]\n",
    "BATHY_OUT = bath_data.variables['BATHY_OUT'][:] # etopo1 bedrock global relief model-topography/bathymetry (m)\n",
    "\n",
    "lons,lats= np.meshgrid(lons,lats)\n",
    "x,y = mapper(lons,lats)\n",
    "\n",
    "# Create contour object and add to the mapper\n",
    "depth = mapper.contourf(x,y,BATHY_OUT[0])\n",
    "\n",
    "# plot release sites\n",
    "\n",
    "# Add legend\n",
    "cb = mapper.colorbar(depth,\"bottom\", size=\"5%\", pad=\"2%\")\n",
    "cb.set_label('Bathymetry (m)')\n",
    "\n",
    "# Change plot titles\n",
    "plt.title('Trajectories over 45 Days', fontsize=20)\n",
    "plt.savefig('Trajectories_45_Settlement.png')\n",
    "\n",
    "plt.show()"
   ]
  },
  {
   "cell_type": "markdown",
   "metadata": {},
   "source": [
    "# FIGURE 2"
   ]
  },
  {
   "cell_type": "markdown",
   "metadata": {
    "collapsed": true
   },
   "source": [
    "Figure 2. Connectivity patterns throughout the Hawaiian Archipelago and offshore waters from the 687 release coral reef habitats (red dots) (Weiss, 2009). Lines represent connections, not dispersal trajectories. Their thickness (or color?) is proportional to the intensity of the connections."
   ]
  },
  {
   "cell_type": "code",
   "execution_count": 179,
   "metadata": {
    "collapsed": true
   },
   "outputs": [],
   "source": [
    "release_locations = pd.read_csv('ReefCellData_for_Johanna_23June2014.csv', header=None, names=['value','name','code','latitude','longitude'])\n",
    "lat = release_locations['latitude']\n",
    "lon = release_locations['longitude']"
   ]
  },
  {
   "cell_type": "code",
   "execution_count": 180,
   "metadata": {
    "collapsed": true
   },
   "outputs": [],
   "source": [
    "npart = 10\n",
    "pset = ParticleSet(fieldset=fieldset, pclass=JITParticle,\n",
    "                   lon=np.tile(lon,npart), lat=np.tile(lat,npart), time=march_1)"
   ]
  },
  {
   "cell_type": "code",
   "execution_count": 182,
   "metadata": {
    "collapsed": true
   },
   "outputs": [],
   "source": [
    "def turbVal(particle, fieldset, time, dt):\n",
    "    # This if-statement is meant to trigger when the current time is a quarter interval of the model timestep\n",
    "    # but I'm not sure it's working... need to double-check\n",
    "    if math.fmod(time,dt/4) == 0:\n",
    "        horDiff = 100\n",
    "        uturb = math.sqrt(((2*horDiff)/dt)) * random.uniform(-1,1) # Important! Should this be random.random()???\n",
    "        # should set random seed somewhere too...?\n",
    "        particle.lat += uturb * dt/1.1e5\n",
    "        vturb = math.sqrt(((2*horDiff)/dt)) * random.uniform(-1,1)\n",
    "        particle.lon += vturb * dt/1.1e5\n",
    "k_turbVal = pset.Kernel(turbVal)        # casting the turbVal function to a kernel object"
   ]
  },
  {
   "cell_type": "code",
   "execution_count": 183,
   "metadata": {
    "scrolled": false
   },
   "outputs": [
    {
     "name": "stderr",
     "output_type": "stream",
     "text": [
      "INFO: Compiled JITParticleAdvectionRK4turbVal ==> /var/folders/nj/pymsyw7n28qdntb958tl337c0000gp/T/parcels-502/904e7e2be9e0aace464c4e34ec97fc79.so\n"
     ]
    }
   ],
   "source": [
    "# Advect the particles, single release repeated n times, for 45 days with dt 1 day with turbulence\n",
    "pset.execute(AdvectionRK4 + k_turbVal,\n",
    "             runtime=timedelta(days=45), # runtime controls the interval of the plots\n",
    "             dt=timedelta(days=1),\n",
    "             recovery={ErrorCode.ErrorOutOfBounds: DeleteParticle},\n",
    "             output_file=pset.ParticleFile(name=\"ReefRelease_turb_{}npart_45days_2\".format(npart), outputdt=timedelta(days=1)))  # the file name and the time step of the outputs) "
   ]
  },
  {
   "cell_type": "code",
   "execution_count": null,
   "metadata": {
    "collapsed": true
   },
   "outputs": [
    {
     "ename": "KeyboardInterrupt",
     "evalue": "",
     "output_type": "error",
     "traceback": [
      "\u001b[0;31m---------------------------------------------------------------------------\u001b[0m",
      "\u001b[0;31mKeyboardInterrupt\u001b[0m                         Traceback (most recent call last)",
      "\u001b[0;32m<ipython-input-184-e609904e581c>\u001b[0m in \u001b[0;36m<module>\u001b[0;34m()\u001b[0m\n\u001b[0;32m----> 1\u001b[0;31m \u001b[0mplotTrajectoriesFile\u001b[0m\u001b[0;34m(\u001b[0m\u001b[0;34m'ReefRelease_turb_{}npart_45days_2.nc'\u001b[0m\u001b[0;34m.\u001b[0m\u001b[0mformat\u001b[0m\u001b[0;34m(\u001b[0m\u001b[0mnpart\u001b[0m\u001b[0;34m)\u001b[0m\u001b[0;34m)\u001b[0m\u001b[0;34m\u001b[0m\u001b[0m\n\u001b[0m",
      "\u001b[0;32m/Users/mho/anaconda3/envs/py2_parcels/lib/python2.7/site-packages/parcels/scripts/plotParticles.pyc\u001b[0m in \u001b[0;36mplotTrajectoriesFile\u001b[0;34m(filename, mode, tracerfile, tracerfield, tracerlon, tracerlat, recordedvar, show_plt)\u001b[0m\n\u001b[1;32m     69\u001b[0m     \u001b[0;32melif\u001b[0m \u001b[0mmode\u001b[0m \u001b[0;34m==\u001b[0m \u001b[0;34m'2d'\u001b[0m\u001b[0;34m:\u001b[0m\u001b[0;34m\u001b[0m\u001b[0m\n\u001b[1;32m     70\u001b[0m         \u001b[0;32mif\u001b[0m \u001b[0mtype\u001b[0m \u001b[0;34m==\u001b[0m \u001b[0;34m'array'\u001b[0m\u001b[0;34m:\u001b[0m\u001b[0;34m\u001b[0m\u001b[0m\n\u001b[0;32m---> 71\u001b[0;31m             \u001b[0mplt\u001b[0m\u001b[0;34m.\u001b[0m\u001b[0mplot\u001b[0m\u001b[0;34m(\u001b[0m\u001b[0mnp\u001b[0m\u001b[0;34m.\u001b[0m\u001b[0mtranspose\u001b[0m\u001b[0;34m(\u001b[0m\u001b[0mlon\u001b[0m\u001b[0;34m)\u001b[0m\u001b[0;34m,\u001b[0m \u001b[0mnp\u001b[0m\u001b[0;34m.\u001b[0m\u001b[0mtranspose\u001b[0m\u001b[0;34m(\u001b[0m\u001b[0mlat\u001b[0m\u001b[0;34m)\u001b[0m\u001b[0;34m,\u001b[0m \u001b[0;34m'.-'\u001b[0m\u001b[0;34m)\u001b[0m\u001b[0;34m\u001b[0m\u001b[0m\n\u001b[0m\u001b[1;32m     72\u001b[0m         \u001b[0;32melif\u001b[0m \u001b[0mtype\u001b[0m \u001b[0;34m==\u001b[0m \u001b[0;34m'indexed'\u001b[0m\u001b[0;34m:\u001b[0m\u001b[0;34m\u001b[0m\u001b[0m\n\u001b[1;32m     73\u001b[0m             \u001b[0;32mfor\u001b[0m \u001b[0mt\u001b[0m \u001b[0;32min\u001b[0m \u001b[0mnp\u001b[0m\u001b[0;34m.\u001b[0m\u001b[0munique\u001b[0m\u001b[0;34m(\u001b[0m\u001b[0mid\u001b[0m\u001b[0;34m)\u001b[0m\u001b[0;34m:\u001b[0m\u001b[0;34m\u001b[0m\u001b[0m\n",
      "\u001b[0;32m/Users/mho/anaconda3/envs/py2_parcels/lib/python2.7/site-packages/matplotlib/pyplot.pyc\u001b[0m in \u001b[0;36mplot\u001b[0;34m(*args, **kwargs)\u001b[0m\n\u001b[1;32m   3315\u001b[0m                       mplDeprecation)\n\u001b[1;32m   3316\u001b[0m     \u001b[0;32mtry\u001b[0m\u001b[0;34m:\u001b[0m\u001b[0;34m\u001b[0m\u001b[0m\n\u001b[0;32m-> 3317\u001b[0;31m         \u001b[0mret\u001b[0m \u001b[0;34m=\u001b[0m \u001b[0max\u001b[0m\u001b[0;34m.\u001b[0m\u001b[0mplot\u001b[0m\u001b[0;34m(\u001b[0m\u001b[0;34m*\u001b[0m\u001b[0margs\u001b[0m\u001b[0;34m,\u001b[0m \u001b[0;34m**\u001b[0m\u001b[0mkwargs\u001b[0m\u001b[0;34m)\u001b[0m\u001b[0;34m\u001b[0m\u001b[0m\n\u001b[0m\u001b[1;32m   3318\u001b[0m     \u001b[0;32mfinally\u001b[0m\u001b[0;34m:\u001b[0m\u001b[0;34m\u001b[0m\u001b[0m\n\u001b[1;32m   3319\u001b[0m         \u001b[0max\u001b[0m\u001b[0;34m.\u001b[0m\u001b[0m_hold\u001b[0m \u001b[0;34m=\u001b[0m \u001b[0mwashold\u001b[0m\u001b[0;34m\u001b[0m\u001b[0m\n",
      "\u001b[0;32m/Users/mho/anaconda3/envs/py2_parcels/lib/python2.7/site-packages/matplotlib/__init__.pyc\u001b[0m in \u001b[0;36minner\u001b[0;34m(ax, *args, **kwargs)\u001b[0m\n\u001b[1;32m   1896\u001b[0m                     warnings.warn(msg % (label_namer, func.__name__),\n\u001b[1;32m   1897\u001b[0m                                   RuntimeWarning, stacklevel=2)\n\u001b[0;32m-> 1898\u001b[0;31m             \u001b[0;32mreturn\u001b[0m \u001b[0mfunc\u001b[0m\u001b[0;34m(\u001b[0m\u001b[0max\u001b[0m\u001b[0;34m,\u001b[0m \u001b[0;34m*\u001b[0m\u001b[0margs\u001b[0m\u001b[0;34m,\u001b[0m \u001b[0;34m**\u001b[0m\u001b[0mkwargs\u001b[0m\u001b[0;34m)\u001b[0m\u001b[0;34m\u001b[0m\u001b[0m\n\u001b[0m\u001b[1;32m   1899\u001b[0m         \u001b[0mpre_doc\u001b[0m \u001b[0;34m=\u001b[0m \u001b[0minner\u001b[0m\u001b[0;34m.\u001b[0m\u001b[0m__doc__\u001b[0m\u001b[0;34m\u001b[0m\u001b[0m\n\u001b[1;32m   1900\u001b[0m         \u001b[0;32mif\u001b[0m \u001b[0mpre_doc\u001b[0m \u001b[0;32mis\u001b[0m \u001b[0mNone\u001b[0m\u001b[0;34m:\u001b[0m\u001b[0;34m\u001b[0m\u001b[0m\n",
      "\u001b[0;32m/Users/mho/anaconda3/envs/py2_parcels/lib/python2.7/site-packages/matplotlib/axes/_axes.pyc\u001b[0m in \u001b[0;36mplot\u001b[0;34m(self, *args, **kwargs)\u001b[0m\n\u001b[1;32m   1405\u001b[0m \u001b[0;34m\u001b[0m\u001b[0m\n\u001b[1;32m   1406\u001b[0m         \u001b[0;32mfor\u001b[0m \u001b[0mline\u001b[0m \u001b[0;32min\u001b[0m \u001b[0mself\u001b[0m\u001b[0;34m.\u001b[0m\u001b[0m_get_lines\u001b[0m\u001b[0;34m(\u001b[0m\u001b[0;34m*\u001b[0m\u001b[0margs\u001b[0m\u001b[0;34m,\u001b[0m \u001b[0;34m**\u001b[0m\u001b[0mkwargs\u001b[0m\u001b[0;34m)\u001b[0m\u001b[0;34m:\u001b[0m\u001b[0;34m\u001b[0m\u001b[0m\n\u001b[0;32m-> 1407\u001b[0;31m             \u001b[0mself\u001b[0m\u001b[0;34m.\u001b[0m\u001b[0madd_line\u001b[0m\u001b[0;34m(\u001b[0m\u001b[0mline\u001b[0m\u001b[0;34m)\u001b[0m\u001b[0;34m\u001b[0m\u001b[0m\n\u001b[0m\u001b[1;32m   1408\u001b[0m             \u001b[0mlines\u001b[0m\u001b[0;34m.\u001b[0m\u001b[0mappend\u001b[0m\u001b[0;34m(\u001b[0m\u001b[0mline\u001b[0m\u001b[0;34m)\u001b[0m\u001b[0;34m\u001b[0m\u001b[0m\n\u001b[1;32m   1409\u001b[0m \u001b[0;34m\u001b[0m\u001b[0m\n",
      "\u001b[0;32m/Users/mho/anaconda3/envs/py2_parcels/lib/python2.7/site-packages/matplotlib/axes/_base.pyc\u001b[0m in \u001b[0;36madd_line\u001b[0;34m(self, line)\u001b[0m\n\u001b[1;32m   1789\u001b[0m         \u001b[0mself\u001b[0m\u001b[0;34m.\u001b[0m\u001b[0m_set_artist_props\u001b[0m\u001b[0;34m(\u001b[0m\u001b[0mline\u001b[0m\u001b[0;34m)\u001b[0m\u001b[0;34m\u001b[0m\u001b[0m\n\u001b[1;32m   1790\u001b[0m         \u001b[0;32mif\u001b[0m \u001b[0mline\u001b[0m\u001b[0;34m.\u001b[0m\u001b[0mget_clip_path\u001b[0m\u001b[0;34m(\u001b[0m\u001b[0;34m)\u001b[0m \u001b[0;32mis\u001b[0m \u001b[0mNone\u001b[0m\u001b[0;34m:\u001b[0m\u001b[0;34m\u001b[0m\u001b[0m\n\u001b[0;32m-> 1791\u001b[0;31m             \u001b[0mline\u001b[0m\u001b[0;34m.\u001b[0m\u001b[0mset_clip_path\u001b[0m\u001b[0;34m(\u001b[0m\u001b[0mself\u001b[0m\u001b[0;34m.\u001b[0m\u001b[0mpatch\u001b[0m\u001b[0;34m)\u001b[0m\u001b[0;34m\u001b[0m\u001b[0m\n\u001b[0m\u001b[1;32m   1792\u001b[0m \u001b[0;34m\u001b[0m\u001b[0m\n\u001b[1;32m   1793\u001b[0m         \u001b[0mself\u001b[0m\u001b[0;34m.\u001b[0m\u001b[0m_update_line_limits\u001b[0m\u001b[0;34m(\u001b[0m\u001b[0mline\u001b[0m\u001b[0;34m)\u001b[0m\u001b[0;34m\u001b[0m\u001b[0m\n",
      "\u001b[0;32m/Users/mho/anaconda3/envs/py2_parcels/lib/python2.7/site-packages/matplotlib/artist.pyc\u001b[0m in \u001b[0;36mset_clip_path\u001b[0;34m(self, path, transform)\u001b[0m\n\u001b[1;32m    691\u001b[0m         \u001b[0;32mif\u001b[0m \u001b[0mtransform\u001b[0m \u001b[0;32mis\u001b[0m \u001b[0mNone\u001b[0m\u001b[0;34m:\u001b[0m\u001b[0;34m\u001b[0m\u001b[0m\n\u001b[1;32m    692\u001b[0m             \u001b[0;32mif\u001b[0m \u001b[0misinstance\u001b[0m\u001b[0;34m(\u001b[0m\u001b[0mpath\u001b[0m\u001b[0;34m,\u001b[0m \u001b[0mRectangle\u001b[0m\u001b[0;34m)\u001b[0m\u001b[0;34m:\u001b[0m\u001b[0;34m\u001b[0m\u001b[0m\n\u001b[0;32m--> 693\u001b[0;31m                 self.clipbox = TransformedBbox(Bbox.unit(),\n\u001b[0m\u001b[1;32m    694\u001b[0m                                                path.get_transform())\n\u001b[1;32m    695\u001b[0m                 \u001b[0mself\u001b[0m\u001b[0;34m.\u001b[0m\u001b[0m_clippath\u001b[0m \u001b[0;34m=\u001b[0m \u001b[0mNone\u001b[0m\u001b[0;34m\u001b[0m\u001b[0m\n",
      "\u001b[0;32m/Users/mho/anaconda3/envs/py2_parcels/lib/python2.7/site-packages/matplotlib/transforms.pyc\u001b[0m in \u001b[0;36munit\u001b[0;34m()\u001b[0m\n\u001b[1;32m    816\u001b[0m         \u001b[0;34m(\u001b[0m\u001b[0;36m1\u001b[0m\u001b[0;34m,\u001b[0m \u001b[0;36m1\u001b[0m\u001b[0;34m)\u001b[0m\u001b[0;34m.\u001b[0m\u001b[0;34m\u001b[0m\u001b[0m\n\u001b[1;32m    817\u001b[0m         \"\"\"\n\u001b[0;32m--> 818\u001b[0;31m         \u001b[0;32mreturn\u001b[0m \u001b[0mBbox\u001b[0m\u001b[0;34m(\u001b[0m\u001b[0mnp\u001b[0m\u001b[0;34m.\u001b[0m\u001b[0marray\u001b[0m\u001b[0;34m(\u001b[0m\u001b[0;34m[\u001b[0m\u001b[0;34m[\u001b[0m\u001b[0;36m0.0\u001b[0m\u001b[0;34m,\u001b[0m \u001b[0;36m0.0\u001b[0m\u001b[0;34m]\u001b[0m\u001b[0;34m,\u001b[0m \u001b[0;34m[\u001b[0m\u001b[0;36m1.0\u001b[0m\u001b[0;34m,\u001b[0m \u001b[0;36m1.0\u001b[0m\u001b[0;34m]\u001b[0m\u001b[0;34m]\u001b[0m\u001b[0;34m,\u001b[0m \u001b[0mnp\u001b[0m\u001b[0;34m.\u001b[0m\u001b[0mfloat\u001b[0m\u001b[0;34m)\u001b[0m\u001b[0;34m)\u001b[0m\u001b[0;34m\u001b[0m\u001b[0m\n\u001b[0m\u001b[1;32m    819\u001b[0m \u001b[0;34m\u001b[0m\u001b[0m\n\u001b[1;32m    820\u001b[0m     \u001b[0;34m@\u001b[0m\u001b[0mstaticmethod\u001b[0m\u001b[0;34m\u001b[0m\u001b[0m\n",
      "\u001b[0;31mKeyboardInterrupt\u001b[0m: "
     ]
    }
   ],
   "source": [
    "plotTrajectoriesFile('ReefRelease_turb_{}npart_45days_2.nc'.format(npart))"
   ]
  },
  {
   "cell_type": "code",
   "execution_count": 2,
   "metadata": {
    "collapsed": true,
    "scrolled": true
   },
   "outputs": [],
   "source": [
    "npart=100\n",
    "f = Dataset('ReefRelease_turb_{}npart_45days_2.nc'.format(npart))"
   ]
  },
  {
   "cell_type": "code",
   "execution_count": 3,
   "metadata": {
    "collapsed": true
   },
   "outputs": [],
   "source": [
    "day45 = 35337600.0 # aka the last timestamp"
   ]
  },
  {
   "cell_type": "code",
   "execution_count": 9,
   "metadata": {
    "scrolled": false
   },
   "outputs": [
    {
     "data": {
      "text/plain": [
       "masked_array(data=[31449600.0, 31536000.0, 31622400.0, 31708800.0,\n",
       "                   31795200.0, 31881600.0, 31968000.0, 32054400.0,\n",
       "                   32140800.0, 32227200.0, 32313600.0, 32400000.0,\n",
       "                   32486400.0, 32572800.0, 32659200.0, 32745600.0,\n",
       "                   32832000.0, 32918400.0, 33004800.0, 33091200.0,\n",
       "                   33177600.0, 33264000.0, 33350400.0, 33436800.0,\n",
       "                   33523200.0, 33609600.0, 33696000.0, 33782400.0,\n",
       "                   33868800.0, 33955200.0, 34041600.0, 34128000.0,\n",
       "                   34214400.0, 34300800.0, 34387200.0, 34473600.0,\n",
       "                   34560000.0, 34646400.0, 34732800.0, 34819200.0,\n",
       "                   34905600.0, 34992000.0, --, --, --, --],\n",
       "             mask=[False, False, False, False, False, False, False, False,\n",
       "                   False, False, False, False, False, False, False, False,\n",
       "                   False, False, False, False, False, False, False, False,\n",
       "                   False, False, False, False, False, False, False, False,\n",
       "                   False, False, False, False, False, False, False, False,\n",
       "                   False, False,  True,  True,  True,  True],\n",
       "       fill_value=nan)"
      ]
     },
     "execution_count": 9,
     "metadata": {},
     "output_type": "execute_result"
    }
   ],
   "source": [
    "f.variables['time'][1000]"
   ]
  },
  {
   "cell_type": "code",
   "execution_count": 30,
   "metadata": {
    "scrolled": true
   },
   "outputs": [
    {
     "data": {
      "text/plain": [
       "68700"
      ]
     },
     "execution_count": 30,
     "metadata": {},
     "output_type": "execute_result"
    }
   ],
   "source": [
    "# Number of particles released\n",
    "len(set(f.variables['trajectory']))"
   ]
  },
  {
   "cell_type": "code",
   "execution_count": 97,
   "metadata": {
    "scrolled": false
   },
   "outputs": [
    {
     "data": {
      "text/plain": [
       "(3435, 46)"
      ]
     },
     "execution_count": 97,
     "metadata": {},
     "output_type": "execute_result"
    }
   ],
   "source": [
    "f.variables['time'].shape"
   ]
  },
  {
   "cell_type": "code",
   "execution_count": 19,
   "metadata": {},
   "outputs": [
    {
     "data": {
      "text/plain": [
       "array([34992000., 34992000., 34992000., ..., 34992000., 34992000.,\n",
       "       34992000.])"
      ]
     },
     "execution_count": 19,
     "metadata": {},
     "output_type": "execute_result"
    }
   ],
   "source": [
    "f.variables['time'][:,-5]"
   ]
  },
  {
   "cell_type": "code",
   "execution_count": 20,
   "metadata": {
    "collapsed": true,
    "scrolled": true
   },
   "outputs": [],
   "source": [
    "day45_lon = f.variables['lon'][:,-5]\n",
    "day45_lat = f.variables['lat'][:,-5]\n",
    "\n",
    "day1_lon = f.variables['lon'][:,0]\n",
    "day1_lat = f.variables['lat'][:,0]"
   ]
  },
  {
   "cell_type": "code",
   "execution_count": 21,
   "metadata": {
    "collapsed": true
   },
   "outputs": [],
   "source": [
    "df = pd.DataFrame(data=[day1_lat,day1_lon, day45_lat, day45_lon]).T"
   ]
  },
  {
   "cell_type": "code",
   "execution_count": 22,
   "metadata": {
    "collapsed": true
   },
   "outputs": [],
   "source": [
    "df.columns = ['day1_lat','day1_lon', 'day45_lat', 'day45_lon']"
   ]
  },
  {
   "cell_type": "code",
   "execution_count": 23,
   "metadata": {
    "collapsed": true
   },
   "outputs": [],
   "source": [
    "df = df.astype('float')"
   ]
  },
  {
   "cell_type": "code",
   "execution_count": 24,
   "metadata": {},
   "outputs": [
    {
     "data": {
      "text/html": [
       "<div>\n",
       "<style scoped>\n",
       "    .dataframe tbody tr th:only-of-type {\n",
       "        vertical-align: middle;\n",
       "    }\n",
       "\n",
       "    .dataframe tbody tr th {\n",
       "        vertical-align: top;\n",
       "    }\n",
       "\n",
       "    .dataframe thead th {\n",
       "        text-align: right;\n",
       "    }\n",
       "</style>\n",
       "<table border=\"1\" class=\"dataframe\">\n",
       "  <thead>\n",
       "    <tr style=\"text-align: right;\">\n",
       "      <th></th>\n",
       "      <th>day1_lat</th>\n",
       "      <th>day1_lon</th>\n",
       "      <th>day45_lat</th>\n",
       "      <th>day45_lon</th>\n",
       "    </tr>\n",
       "  </thead>\n",
       "  <tbody>\n",
       "    <tr>\n",
       "      <th>0</th>\n",
       "      <td>28.501778</td>\n",
       "      <td>-178.369614</td>\n",
       "      <td>28.537651</td>\n",
       "      <td>-177.050308</td>\n",
       "    </tr>\n",
       "    <tr>\n",
       "      <th>1</th>\n",
       "      <td>28.501778</td>\n",
       "      <td>-178.261810</td>\n",
       "      <td>28.546841</td>\n",
       "      <td>-177.907013</td>\n",
       "    </tr>\n",
       "    <tr>\n",
       "      <th>2</th>\n",
       "      <td>28.470032</td>\n",
       "      <td>-178.369614</td>\n",
       "      <td>28.473461</td>\n",
       "      <td>-176.266800</td>\n",
       "    </tr>\n",
       "    <tr>\n",
       "      <th>3</th>\n",
       "      <td>28.470032</td>\n",
       "      <td>-178.261810</td>\n",
       "      <td>28.678768</td>\n",
       "      <td>-179.028610</td>\n",
       "    </tr>\n",
       "    <tr>\n",
       "      <th>4</th>\n",
       "      <td>28.438274</td>\n",
       "      <td>-178.369614</td>\n",
       "      <td>28.745375</td>\n",
       "      <td>-176.634705</td>\n",
       "    </tr>\n",
       "  </tbody>\n",
       "</table>\n",
       "</div>"
      ],
      "text/plain": [
       "    day1_lat    day1_lon  day45_lat   day45_lon\n",
       "0  28.501778 -178.369614  28.537651 -177.050308\n",
       "1  28.501778 -178.261810  28.546841 -177.907013\n",
       "2  28.470032 -178.369614  28.473461 -176.266800\n",
       "3  28.470032 -178.261810  28.678768 -179.028610\n",
       "4  28.438274 -178.369614  28.745375 -176.634705"
      ]
     },
     "execution_count": 24,
     "metadata": {},
     "output_type": "execute_result"
    }
   ],
   "source": [
    "df.head()"
   ]
  },
  {
   "cell_type": "code",
   "execution_count": 25,
   "metadata": {
    "collapsed": true
   },
   "outputs": [],
   "source": [
    "cc = cartoframes.CartoContext()"
   ]
  },
  {
   "cell_type": "code",
   "execution_count": 26,
   "metadata": {
    "scrolled": false
   },
   "outputs": [
    {
     "name": "stderr",
     "output_type": "stream",
     "text": [
      "/Users/mho/anaconda3/envs/py2_parcels/lib/python2.7/site-packages/carto/resources.py:90: FutureWarning: This is part of a non-public CARTO API and may change in the future. Take this into account if you are using this in a production environment\n",
      "  warnings.warn('This is part of a non-public CARTO API and may change in the future. Take this into account if you are using this in a production environment', FutureWarning)\n"
     ]
    },
    {
     "name": "stdout",
     "output_type": "stream",
     "text": [
      "Table successfully written to CARTO: https://michellemho-carto.carto.com/dataset/day45_position_100n\n",
      "`the_geom` column is being populated from `('day45_lon', 'day45_lat')`. Check the status of the operation with:\n",
      "    \u001b[1mBatchJobStatus(CartoContext(), '4c807061-57bc-408f-a73e-9d0f6d1fd18d').status()\u001b[0m\n",
      "or try reading the table from CARTO in a couple of minutes.\n",
      "\u001b[1mNote:\u001b[0m `CartoContext.map` will not work on this table until its geometries are created.\n"
     ]
    },
    {
     "data": {
      "text/plain": [
       "BatchJobStatus(job_id='4c807061-57bc-408f-a73e-9d0f6d1fd18d', last_status='pending', created_at='2018-05-04T16:02:12.543Z')"
      ]
     },
     "execution_count": 26,
     "metadata": {},
     "output_type": "execute_result"
    }
   ],
   "source": [
    "cc.write(df, 'day45_position_{}n'.format(npart), lnglat=('day45_lon','day45_lat'), overwrite=True)"
   ]
  },
  {
   "cell_type": "code",
   "execution_count": 34,
   "metadata": {},
   "outputs": [
    {
     "data": {
      "text/plain": [
       "{'created_at': u'2018-05-04T16:02:12.543Z',\n",
       " 'status': u'done',\n",
       " 'updated_at': u'2018-05-04T16:03:46.735Z'}"
      ]
     },
     "execution_count": 34,
     "metadata": {},
     "output_type": "execute_result"
    }
   ],
   "source": [
    "cartoframes.BatchJobStatus(cc, '4c807061-57bc-408f-a73e-9d0f6d1fd18d').status()"
   ]
  },
  {
   "cell_type": "code",
   "execution_count": 157,
   "metadata": {
    "collapsed": true
   },
   "outputs": [],
   "source": [
    "# For each particle, find the nearest polygon at day 45\n",
    "\n",
    "find_the_nearest_settlement_polygon = '''\n",
    "WITH day45 AS (SELECT cartodb_id, idx, the_geom, the_geom_webmercator FROM trajectories_5n WHERE time = 35337600),\n",
    "closest_polygon AS (SELECT\n",
    "  particle_location.cartodb_id,\n",
    "  particle_location.idx,\n",
    "  particle_location.the_geom,\n",
    "  particle_location.the_geom_webmercator,\n",
    "  settlement_polygon.cartodb_id as settlement_id,\n",
    "ST_Distance(geography(settlement_polygon.the_geom), geography(particle_location.the_geom), false) AS distance\n",
    "FROM\n",
    "  day45 AS particle_location\n",
    "CROSS JOIN LATERAL\n",
    "  (SELECT *\n",
    "   FROM release_sites\n",
    "   ORDER BY\n",
    "     particle_location.the_geom_webmercator <-> the_geom_webmercator\n",
    "   LIMIT 1) AS settlement_polygon)\n",
    "SELECT * from closest_polygon\n",
    "WHERE distance < 5000\n",
    "'''"
   ]
  },
  {
   "cell_type": "code",
   "execution_count": 35,
   "metadata": {
    "collapsed": true
   },
   "outputs": [],
   "source": [
    "# For each particle, find the nearest polygon at day 45 (FOR REPEATED)\n",
    "\n",
    "find_the_nearest_settlement_polygon_n = '''\n",
    "WITH closest_polygon AS (SELECT\n",
    "  particle_location.cartodb_id,\n",
    "  particle_location.day1_lat,\n",
    "  particle_location.day1_lon,\n",
    "  particle_location.the_geom,\n",
    "  particle_location.the_geom_webmercator,\n",
    "  settlement_polygon.cartodb_id as settlement_id,\n",
    "  ST_Distance(geography(settlement_polygon.the_geom), geography(particle_location.the_geom), false) AS distance\n",
    "    FROM\n",
    "  day45_position_{}n AS particle_location\n",
    "    CROSS JOIN LATERAL\n",
    "      (SELECT *\n",
    "       FROM release_sites\n",
    "       ORDER BY\n",
    "         particle_location.the_geom_webmercator <-> the_geom_webmercator\n",
    "       LIMIT 1) AS settlement_polygon)\n",
    "SELECT * from closest_polygon\n",
    "WHERE distance < 5000\n",
    "'''"
   ]
  },
  {
   "cell_type": "code",
   "execution_count": 36,
   "metadata": {
    "collapsed": true
   },
   "outputs": [],
   "source": [
    "cc = cartoframes.CartoContext()"
   ]
  },
  {
   "cell_type": "code",
   "execution_count": 37,
   "metadata": {},
   "outputs": [
    {
     "name": "stdout",
     "output_type": "stream",
     "text": [
      "Table successfully written to CARTO: https://michellemho-carto.carto.com/dataset/connectivity_output_100n\n"
     ]
    }
   ],
   "source": [
    "connectivity_output = cc.query(find_the_nearest_settlement_polygon_n.format(npart),\n",
    "                               table_name = 'connectivity_output_{}n'.format(npart))"
   ]
  },
  {
   "cell_type": "code",
   "execution_count": 38,
   "metadata": {
    "collapsed": true
   },
   "outputs": [],
   "source": [
    "aggregate_connectivity = '''\n",
    "SELECT day1_lat, day1_lon, settlement_id, count(*) FROM connectivity_output_{}n\n",
    "GROUP BY day1_lat, day1_lon, settlement_id\n",
    "ORDER BY count DESC\n",
    "'''"
   ]
  },
  {
   "cell_type": "code",
   "execution_count": 39,
   "metadata": {
    "scrolled": true
   },
   "outputs": [
    {
     "name": "stdout",
     "output_type": "stream",
     "text": [
      "Table successfully written to CARTO: https://michellemho-carto.carto.com/dataset/aggregate_connectivity_100n\n"
     ]
    }
   ],
   "source": [
    "aggregate_connectivity = cc.query(aggregate_connectivity.format(npart),\n",
    "                                  table_name = 'aggregate_connectivity_{}n'.format(npart))"
   ]
  },
  {
   "cell_type": "code",
   "execution_count": 41,
   "metadata": {
    "scrolled": true
   },
   "outputs": [
    {
     "data": {
      "text/html": [
       "<div>\n",
       "<style scoped>\n",
       "    .dataframe tbody tr th:only-of-type {\n",
       "        vertical-align: middle;\n",
       "    }\n",
       "\n",
       "    .dataframe tbody tr th {\n",
       "        vertical-align: top;\n",
       "    }\n",
       "\n",
       "    .dataframe thead th {\n",
       "        text-align: right;\n",
       "    }\n",
       "</style>\n",
       "<table border=\"1\" class=\"dataframe\">\n",
       "  <thead>\n",
       "    <tr style=\"text-align: right;\">\n",
       "      <th></th>\n",
       "      <th>value</th>\n",
       "      <th>name</th>\n",
       "      <th>code</th>\n",
       "      <th>latitude</th>\n",
       "      <th>longitude</th>\n",
       "    </tr>\n",
       "  </thead>\n",
       "  <tbody>\n",
       "    <tr>\n",
       "      <th>0</th>\n",
       "      <td>0.066875</td>\n",
       "      <td>Kure Atoll</td>\n",
       "      <td>NOAA NCCOS</td>\n",
       "      <td>28.501778</td>\n",
       "      <td>-178.369614</td>\n",
       "    </tr>\n",
       "    <tr>\n",
       "      <th>1</th>\n",
       "      <td>0.015000</td>\n",
       "      <td>Kure Atoll</td>\n",
       "      <td>NOAA NCCOS</td>\n",
       "      <td>28.501778</td>\n",
       "      <td>-178.261817</td>\n",
       "    </tr>\n",
       "    <tr>\n",
       "      <th>2</th>\n",
       "      <td>0.115000</td>\n",
       "      <td>Kure Atoll</td>\n",
       "      <td>NOAA NCCOS</td>\n",
       "      <td>28.470031</td>\n",
       "      <td>-178.369614</td>\n",
       "    </tr>\n",
       "    <tr>\n",
       "      <th>3</th>\n",
       "      <td>0.237500</td>\n",
       "      <td>Kure Atoll</td>\n",
       "      <td>NOAA NCCOS</td>\n",
       "      <td>28.470031</td>\n",
       "      <td>-178.261817</td>\n",
       "    </tr>\n",
       "    <tr>\n",
       "      <th>4</th>\n",
       "      <td>0.266250</td>\n",
       "      <td>Kure Atoll</td>\n",
       "      <td>NOAA NCCOS</td>\n",
       "      <td>28.438274</td>\n",
       "      <td>-178.369614</td>\n",
       "    </tr>\n",
       "  </tbody>\n",
       "</table>\n",
       "</div>"
      ],
      "text/plain": [
       "      value        name        code   latitude   longitude\n",
       "0  0.066875  Kure Atoll  NOAA NCCOS  28.501778 -178.369614\n",
       "1  0.015000  Kure Atoll  NOAA NCCOS  28.501778 -178.261817\n",
       "2  0.115000  Kure Atoll  NOAA NCCOS  28.470031 -178.369614\n",
       "3  0.237500  Kure Atoll  NOAA NCCOS  28.470031 -178.261817\n",
       "4  0.266250  Kure Atoll  NOAA NCCOS  28.438274 -178.369614"
      ]
     },
     "execution_count": 41,
     "metadata": {},
     "output_type": "execute_result"
    }
   ],
   "source": [
    "release_locations.head()"
   ]
  },
  {
   "cell_type": "code",
   "execution_count": 42,
   "metadata": {},
   "outputs": [
    {
     "name": "stdout",
     "output_type": "stream",
     "text": [
      "Table successfully written to CARTO: https://michellemho-carto.carto.com/dataset/release_sites_original\n"
     ]
    }
   ],
   "source": [
    "cc.write(release_locations, 'release_sites_original', lnglat = ('longitude','latitude'))"
   ]
  },
  {
   "cell_type": "code",
   "execution_count": null,
   "metadata": {
    "collapsed": true
   },
   "outputs": [],
   "source": [
    "origin_time = 31449600"
   ]
  },
  {
   "cell_type": "code",
   "execution_count": 165,
   "metadata": {
    "collapsed": true
   },
   "outputs": [],
   "source": [
    "make_lines_aggcount = '''\n",
    "SELECT row_number() OVER () As cartodb_id, ST_MAKELINE(s.the_geom, d.the_geom) as the_geom,\n",
    "      ST_Transform(ST_MAKELINE(s.the_geom, d.the_geom), 3857) as the_geom_webmercator,\n",
    "      s.cartodb_id origin_id, d.cartodb_id dest_id, sum(count)\n",
    "FROM release_sites_original  s, release_sites_original d , (select * from aggregate_connectivity_5n) data_table\n",
    "WHERE s.latitude = data_table.day1_lat AND s.longitude = data_table.day1_lon AND d.cartodb_id = data_table.settlement_id\n",
    "group by ST_MAKELINE(s.the_geom, d.the_geom), s.cartodb_id + d.cartodb_id, s.cartodb_id, d.cartodb_id\n",
    "'''"
   ]
  },
  {
   "cell_type": "code",
   "execution_count": 40,
   "metadata": {
    "collapsed": true
   },
   "outputs": [],
   "source": [
    "make_lines_aggcount_WITH_ORIGIN_LAT_LON = '''\n",
    "SELECT row_number() OVER () As cartodb_id, ST_MAKELINE(ST_SetSRID(ST_POINT(data_table.day1_lon,data_table.day1_lat),4326), d.the_geom) as the_geom,\n",
    "      ST_Transform(ST_MAKELINE(ST_SetSRID(ST_POINT(data_table.day1_lon,data_table.day1_lat),4326), d.the_geom), 3857) as the_geom_webmercator,\n",
    "      sum(data_table.count)\n",
    "FROM release_sites_original  d, (select * from aggregate_connectivity_{}n) data_table\n",
    "WHERE d.cartodb_id = data_table.settlement_id\n",
    "group by ST_MAKELINE(ST_SetSRID(ST_POINT(data_table.day1_lon,data_table.day1_lat),4326), d.the_geom)\n",
    "'''"
   ]
  },
  {
   "cell_type": "code",
   "execution_count": 41,
   "metadata": {
    "scrolled": true
   },
   "outputs": [
    {
     "name": "stdout",
     "output_type": "stream",
     "text": [
      "Table successfully written to CARTO: https://michellemho-carto.carto.com/dataset/connectivity_lines_100n\n"
     ]
    },
    {
     "data": {
      "text/html": [
       "<div>\n",
       "<style scoped>\n",
       "    .dataframe tbody tr th:only-of-type {\n",
       "        vertical-align: middle;\n",
       "    }\n",
       "\n",
       "    .dataframe tbody tr th {\n",
       "        vertical-align: top;\n",
       "    }\n",
       "\n",
       "    .dataframe thead th {\n",
       "        text-align: right;\n",
       "    }\n",
       "</style>\n",
       "<table border=\"1\" class=\"dataframe\">\n",
       "  <thead>\n",
       "    <tr style=\"text-align: right;\">\n",
       "      <th></th>\n",
       "      <th>sum</th>\n",
       "      <th>the_geom</th>\n",
       "    </tr>\n",
       "    <tr>\n",
       "      <th>cartodb_id</th>\n",
       "      <th></th>\n",
       "      <th></th>\n",
       "    </tr>\n",
       "  </thead>\n",
       "  <tbody>\n",
       "    <tr>\n",
       "      <th>1</th>\n",
       "      <td>1</td>\n",
       "      <td>0105000020E61000000100000001020000000200000000...</td>\n",
       "    </tr>\n",
       "    <tr>\n",
       "      <th>2</th>\n",
       "      <td>1</td>\n",
       "      <td>0105000020E61000000100000001020000000200000000...</td>\n",
       "    </tr>\n",
       "    <tr>\n",
       "      <th>3</th>\n",
       "      <td>1</td>\n",
       "      <td>0105000020E61000000100000001020000000200000000...</td>\n",
       "    </tr>\n",
       "    <tr>\n",
       "      <th>4</th>\n",
       "      <td>1</td>\n",
       "      <td>0105000020E61000000100000001020000000200000000...</td>\n",
       "    </tr>\n",
       "    <tr>\n",
       "      <th>5</th>\n",
       "      <td>1</td>\n",
       "      <td>0105000020E61000000100000001020000000200000000...</td>\n",
       "    </tr>\n",
       "    <tr>\n",
       "      <th>6</th>\n",
       "      <td>1</td>\n",
       "      <td>0105000020E61000000100000001020000000200000000...</td>\n",
       "    </tr>\n",
       "    <tr>\n",
       "      <th>7</th>\n",
       "      <td>1</td>\n",
       "      <td>0105000020E61000000100000001020000000200000000...</td>\n",
       "    </tr>\n",
       "    <tr>\n",
       "      <th>8</th>\n",
       "      <td>1</td>\n",
       "      <td>0105000020E61000000100000001020000000200000000...</td>\n",
       "    </tr>\n",
       "    <tr>\n",
       "      <th>9</th>\n",
       "      <td>1</td>\n",
       "      <td>0105000020E61000000100000001020000000200000000...</td>\n",
       "    </tr>\n",
       "    <tr>\n",
       "      <th>10</th>\n",
       "      <td>1</td>\n",
       "      <td>0105000020E61000000100000001020000000200000000...</td>\n",
       "    </tr>\n",
       "    <tr>\n",
       "      <th>11</th>\n",
       "      <td>1</td>\n",
       "      <td>0105000020E61000000100000001020000000200000000...</td>\n",
       "    </tr>\n",
       "    <tr>\n",
       "      <th>12</th>\n",
       "      <td>2</td>\n",
       "      <td>0105000020E61000000100000001020000000200000000...</td>\n",
       "    </tr>\n",
       "    <tr>\n",
       "      <th>13</th>\n",
       "      <td>2</td>\n",
       "      <td>0105000020E61000000100000001020000000200000000...</td>\n",
       "    </tr>\n",
       "    <tr>\n",
       "      <th>14</th>\n",
       "      <td>1</td>\n",
       "      <td>0105000020E61000000100000001020000000200000000...</td>\n",
       "    </tr>\n",
       "    <tr>\n",
       "      <th>15</th>\n",
       "      <td>1</td>\n",
       "      <td>0105000020E61000000100000001020000000200000000...</td>\n",
       "    </tr>\n",
       "    <tr>\n",
       "      <th>16</th>\n",
       "      <td>1</td>\n",
       "      <td>0105000020E61000000100000001020000000200000000...</td>\n",
       "    </tr>\n",
       "    <tr>\n",
       "      <th>17</th>\n",
       "      <td>1</td>\n",
       "      <td>0105000020E61000000100000001020000000200000000...</td>\n",
       "    </tr>\n",
       "    <tr>\n",
       "      <th>18</th>\n",
       "      <td>1</td>\n",
       "      <td>0105000020E61000000100000001020000000200000000...</td>\n",
       "    </tr>\n",
       "    <tr>\n",
       "      <th>19</th>\n",
       "      <td>2</td>\n",
       "      <td>0105000020E61000000100000001020000000200000000...</td>\n",
       "    </tr>\n",
       "    <tr>\n",
       "      <th>20</th>\n",
       "      <td>1</td>\n",
       "      <td>0105000020E61000000100000001020000000200000000...</td>\n",
       "    </tr>\n",
       "    <tr>\n",
       "      <th>21</th>\n",
       "      <td>1</td>\n",
       "      <td>0105000020E61000000100000001020000000200000000...</td>\n",
       "    </tr>\n",
       "    <tr>\n",
       "      <th>22</th>\n",
       "      <td>1</td>\n",
       "      <td>0105000020E61000000100000001020000000200000000...</td>\n",
       "    </tr>\n",
       "    <tr>\n",
       "      <th>23</th>\n",
       "      <td>1</td>\n",
       "      <td>0105000020E61000000100000001020000000200000000...</td>\n",
       "    </tr>\n",
       "    <tr>\n",
       "      <th>24</th>\n",
       "      <td>1</td>\n",
       "      <td>0105000020E61000000100000001020000000200000000...</td>\n",
       "    </tr>\n",
       "    <tr>\n",
       "      <th>25</th>\n",
       "      <td>2</td>\n",
       "      <td>0105000020E61000000100000001020000000200000000...</td>\n",
       "    </tr>\n",
       "    <tr>\n",
       "      <th>26</th>\n",
       "      <td>1</td>\n",
       "      <td>0105000020E61000000100000001020000000200000000...</td>\n",
       "    </tr>\n",
       "    <tr>\n",
       "      <th>27</th>\n",
       "      <td>1</td>\n",
       "      <td>0105000020E61000000100000001020000000200000000...</td>\n",
       "    </tr>\n",
       "    <tr>\n",
       "      <th>28</th>\n",
       "      <td>2</td>\n",
       "      <td>0105000020E61000000100000001020000000200000000...</td>\n",
       "    </tr>\n",
       "    <tr>\n",
       "      <th>29</th>\n",
       "      <td>1</td>\n",
       "      <td>0105000020E61000000100000001020000000200000000...</td>\n",
       "    </tr>\n",
       "    <tr>\n",
       "      <th>30</th>\n",
       "      <td>1</td>\n",
       "      <td>0105000020E61000000100000001020000000200000000...</td>\n",
       "    </tr>\n",
       "    <tr>\n",
       "      <th>...</th>\n",
       "      <td>...</td>\n",
       "      <td>...</td>\n",
       "    </tr>\n",
       "    <tr>\n",
       "      <th>6515</th>\n",
       "      <td>1</td>\n",
       "      <td>0105000020E61000000100000001020000000200000000...</td>\n",
       "    </tr>\n",
       "    <tr>\n",
       "      <th>6516</th>\n",
       "      <td>1</td>\n",
       "      <td>0105000020E61000000100000001020000000200000000...</td>\n",
       "    </tr>\n",
       "    <tr>\n",
       "      <th>6517</th>\n",
       "      <td>3</td>\n",
       "      <td>0105000020E61000000100000001020000000200000000...</td>\n",
       "    </tr>\n",
       "    <tr>\n",
       "      <th>6518</th>\n",
       "      <td>1</td>\n",
       "      <td>0105000020E61000000100000001020000000200000000...</td>\n",
       "    </tr>\n",
       "    <tr>\n",
       "      <th>6519</th>\n",
       "      <td>2</td>\n",
       "      <td>0105000020E61000000100000001020000000200000000...</td>\n",
       "    </tr>\n",
       "    <tr>\n",
       "      <th>6520</th>\n",
       "      <td>1</td>\n",
       "      <td>0105000020E61000000100000001020000000200000000...</td>\n",
       "    </tr>\n",
       "    <tr>\n",
       "      <th>6521</th>\n",
       "      <td>3</td>\n",
       "      <td>0105000020E61000000100000001020000000200000000...</td>\n",
       "    </tr>\n",
       "    <tr>\n",
       "      <th>6522</th>\n",
       "      <td>3</td>\n",
       "      <td>0105000020E61000000100000001020000000200000000...</td>\n",
       "    </tr>\n",
       "    <tr>\n",
       "      <th>6523</th>\n",
       "      <td>1</td>\n",
       "      <td>0105000020E61000000100000001020000000200000000...</td>\n",
       "    </tr>\n",
       "    <tr>\n",
       "      <th>6524</th>\n",
       "      <td>6</td>\n",
       "      <td>0105000020E61000000100000001020000000200000000...</td>\n",
       "    </tr>\n",
       "    <tr>\n",
       "      <th>6525</th>\n",
       "      <td>1</td>\n",
       "      <td>0105000020E61000000100000001020000000200000000...</td>\n",
       "    </tr>\n",
       "    <tr>\n",
       "      <th>6526</th>\n",
       "      <td>1</td>\n",
       "      <td>0105000020E61000000100000001020000000200000000...</td>\n",
       "    </tr>\n",
       "    <tr>\n",
       "      <th>6527</th>\n",
       "      <td>2</td>\n",
       "      <td>0105000020E61000000100000001020000000200000000...</td>\n",
       "    </tr>\n",
       "    <tr>\n",
       "      <th>6528</th>\n",
       "      <td>2</td>\n",
       "      <td>0105000020E61000000100000001020000000200000000...</td>\n",
       "    </tr>\n",
       "    <tr>\n",
       "      <th>6529</th>\n",
       "      <td>2</td>\n",
       "      <td>0105000020E61000000100000001020000000200000000...</td>\n",
       "    </tr>\n",
       "    <tr>\n",
       "      <th>6530</th>\n",
       "      <td>1</td>\n",
       "      <td>0105000020E61000000100000001020000000200000000...</td>\n",
       "    </tr>\n",
       "    <tr>\n",
       "      <th>6531</th>\n",
       "      <td>1</td>\n",
       "      <td>0105000020E61000000100000001020000000200000000...</td>\n",
       "    </tr>\n",
       "    <tr>\n",
       "      <th>6532</th>\n",
       "      <td>1</td>\n",
       "      <td>0105000020E61000000100000001020000000200000000...</td>\n",
       "    </tr>\n",
       "    <tr>\n",
       "      <th>6533</th>\n",
       "      <td>1</td>\n",
       "      <td>0105000020E61000000100000001020000000200000000...</td>\n",
       "    </tr>\n",
       "    <tr>\n",
       "      <th>6534</th>\n",
       "      <td>1</td>\n",
       "      <td>0105000020E61000000100000001020000000200000000...</td>\n",
       "    </tr>\n",
       "    <tr>\n",
       "      <th>6535</th>\n",
       "      <td>2</td>\n",
       "      <td>0105000020E61000000100000001020000000200000000...</td>\n",
       "    </tr>\n",
       "    <tr>\n",
       "      <th>6536</th>\n",
       "      <td>1</td>\n",
       "      <td>0105000020E61000000100000001020000000200000000...</td>\n",
       "    </tr>\n",
       "    <tr>\n",
       "      <th>6537</th>\n",
       "      <td>1</td>\n",
       "      <td>0105000020E61000000100000001020000000200000000...</td>\n",
       "    </tr>\n",
       "    <tr>\n",
       "      <th>6538</th>\n",
       "      <td>1</td>\n",
       "      <td>0105000020E61000000100000001020000000200000000...</td>\n",
       "    </tr>\n",
       "    <tr>\n",
       "      <th>6539</th>\n",
       "      <td>3</td>\n",
       "      <td>0105000020E61000000100000001020000000200000000...</td>\n",
       "    </tr>\n",
       "    <tr>\n",
       "      <th>6540</th>\n",
       "      <td>1</td>\n",
       "      <td>0105000020E61000000100000001020000000200000000...</td>\n",
       "    </tr>\n",
       "    <tr>\n",
       "      <th>6541</th>\n",
       "      <td>2</td>\n",
       "      <td>0105000020E61000000100000001020000000200000000...</td>\n",
       "    </tr>\n",
       "    <tr>\n",
       "      <th>6542</th>\n",
       "      <td>1</td>\n",
       "      <td>0105000020E61000000100000001020000000200000000...</td>\n",
       "    </tr>\n",
       "    <tr>\n",
       "      <th>6543</th>\n",
       "      <td>1</td>\n",
       "      <td>0105000020E61000000100000001020000000200000000...</td>\n",
       "    </tr>\n",
       "    <tr>\n",
       "      <th>6544</th>\n",
       "      <td>1</td>\n",
       "      <td>0105000020E61000000100000001020000000200000000...</td>\n",
       "    </tr>\n",
       "  </tbody>\n",
       "</table>\n",
       "<p>6544 rows × 2 columns</p>\n",
       "</div>"
      ],
      "text/plain": [
       "            sum                                           the_geom\n",
       "cartodb_id                                                        \n",
       "1             1  0105000020E61000000100000001020000000200000000...\n",
       "2             1  0105000020E61000000100000001020000000200000000...\n",
       "3             1  0105000020E61000000100000001020000000200000000...\n",
       "4             1  0105000020E61000000100000001020000000200000000...\n",
       "5             1  0105000020E61000000100000001020000000200000000...\n",
       "6             1  0105000020E61000000100000001020000000200000000...\n",
       "7             1  0105000020E61000000100000001020000000200000000...\n",
       "8             1  0105000020E61000000100000001020000000200000000...\n",
       "9             1  0105000020E61000000100000001020000000200000000...\n",
       "10            1  0105000020E61000000100000001020000000200000000...\n",
       "11            1  0105000020E61000000100000001020000000200000000...\n",
       "12            2  0105000020E61000000100000001020000000200000000...\n",
       "13            2  0105000020E61000000100000001020000000200000000...\n",
       "14            1  0105000020E61000000100000001020000000200000000...\n",
       "15            1  0105000020E61000000100000001020000000200000000...\n",
       "16            1  0105000020E61000000100000001020000000200000000...\n",
       "17            1  0105000020E61000000100000001020000000200000000...\n",
       "18            1  0105000020E61000000100000001020000000200000000...\n",
       "19            2  0105000020E61000000100000001020000000200000000...\n",
       "20            1  0105000020E61000000100000001020000000200000000...\n",
       "21            1  0105000020E61000000100000001020000000200000000...\n",
       "22            1  0105000020E61000000100000001020000000200000000...\n",
       "23            1  0105000020E61000000100000001020000000200000000...\n",
       "24            1  0105000020E61000000100000001020000000200000000...\n",
       "25            2  0105000020E61000000100000001020000000200000000...\n",
       "26            1  0105000020E61000000100000001020000000200000000...\n",
       "27            1  0105000020E61000000100000001020000000200000000...\n",
       "28            2  0105000020E61000000100000001020000000200000000...\n",
       "29            1  0105000020E61000000100000001020000000200000000...\n",
       "30            1  0105000020E61000000100000001020000000200000000...\n",
       "...         ...                                                ...\n",
       "6515          1  0105000020E61000000100000001020000000200000000...\n",
       "6516          1  0105000020E61000000100000001020000000200000000...\n",
       "6517          3  0105000020E61000000100000001020000000200000000...\n",
       "6518          1  0105000020E61000000100000001020000000200000000...\n",
       "6519          2  0105000020E61000000100000001020000000200000000...\n",
       "6520          1  0105000020E61000000100000001020000000200000000...\n",
       "6521          3  0105000020E61000000100000001020000000200000000...\n",
       "6522          3  0105000020E61000000100000001020000000200000000...\n",
       "6523          1  0105000020E61000000100000001020000000200000000...\n",
       "6524          6  0105000020E61000000100000001020000000200000000...\n",
       "6525          1  0105000020E61000000100000001020000000200000000...\n",
       "6526          1  0105000020E61000000100000001020000000200000000...\n",
       "6527          2  0105000020E61000000100000001020000000200000000...\n",
       "6528          2  0105000020E61000000100000001020000000200000000...\n",
       "6529          2  0105000020E61000000100000001020000000200000000...\n",
       "6530          1  0105000020E61000000100000001020000000200000000...\n",
       "6531          1  0105000020E61000000100000001020000000200000000...\n",
       "6532          1  0105000020E61000000100000001020000000200000000...\n",
       "6533          1  0105000020E61000000100000001020000000200000000...\n",
       "6534          1  0105000020E61000000100000001020000000200000000...\n",
       "6535          2  0105000020E61000000100000001020000000200000000...\n",
       "6536          1  0105000020E61000000100000001020000000200000000...\n",
       "6537          1  0105000020E61000000100000001020000000200000000...\n",
       "6538          1  0105000020E61000000100000001020000000200000000...\n",
       "6539          3  0105000020E61000000100000001020000000200000000...\n",
       "6540          1  0105000020E61000000100000001020000000200000000...\n",
       "6541          2  0105000020E61000000100000001020000000200000000...\n",
       "6542          1  0105000020E61000000100000001020000000200000000...\n",
       "6543          1  0105000020E61000000100000001020000000200000000...\n",
       "6544          1  0105000020E61000000100000001020000000200000000...\n",
       "\n",
       "[6544 rows x 2 columns]"
      ]
     },
     "execution_count": 41,
     "metadata": {},
     "output_type": "execute_result"
    }
   ],
   "source": [
    "cc.query(make_lines_aggcount_WITH_ORIGIN_LAT_LON.format(npart), 'connectivity_lines_{}n'.format(npart))"
   ]
  },
  {
   "cell_type": "code",
   "execution_count": null,
   "metadata": {
    "collapsed": true
   },
   "outputs": [],
   "source": [
    "# Remaining styling done in CARTO."
   ]
  }
 ],
 "metadata": {
  "anaconda-cloud": {},
  "kernelspec": {
   "display_name": "py2_parcels",
   "language": "python",
   "name": "py2_parcels"
  },
  "language_info": {
   "codemirror_mode": {
    "name": "ipython",
    "version": 2
   },
   "file_extension": ".py",
   "mimetype": "text/x-python",
   "name": "python",
   "nbconvert_exporter": "python",
   "pygments_lexer": "ipython2",
   "version": "2.7.14"
  }
 },
 "nbformat": 4,
 "nbformat_minor": 2
}
