{
 "cells": [
  {
   "cell_type": "markdown",
   "metadata": {},
   "source": [
    "# Map basemap of wind curl (no trajectories)"
   ]
  },
  {
   "cell_type": "code",
   "execution_count": 1,
   "metadata": {},
   "outputs": [],
   "source": [
    "import numpy as np\n",
    "from netCDF4 import Dataset\n",
    "import matplotlib.pyplot as plt\n",
    "from mpl_toolkits.basemap import Basemap\n",
    "%matplotlib inline"
   ]
  },
  {
   "cell_type": "code",
   "execution_count": 2,
   "metadata": {
    "collapsed": true
   },
   "outputs": [],
   "source": [
    "wind_data = Dataset('ASCAT_wind_and_curl_5yearmean.cdf')"
   ]
  },
  {
   "cell_type": "code",
   "execution_count": 10,
   "metadata": {},
   "outputs": [
    {
     "data": {
      "image/png": "[encoded data removed]",
      "text/plain": [
       "<matplotlib.figure.Figure at 0x116e565d0>"
      ]
     },
     "metadata": {},
     "output_type": "display_data"
    }
   ],
   "source": [
    "# Set up mapper with a Basemap of coastal boundaries for Hawaii\n",
    "\n",
    "mapper = Basemap(projection='merc',\n",
    "            llcrnrlon=194.125,\n",
    "            llcrnrlat=16.125,\n",
    "            urcrnrlon=208.875,\n",
    "            urcrnrlat=25.875,\n",
    "            resolution='l')\n",
    "\n",
    "# Set up processing for bathymetry data\n",
    "lats = wind_data.variables['LAT385_424'][:]\n",
    "lons = wind_data.variables['LON1497_1556'][:]\n",
    "WINDCURL_OUT = wind_data.variables['CURLM'][:] \n",
    "\n",
    "lons,lats= np.meshgrid(lons,lats)\n",
    "x,y = mapper(lons,lats)\n",
    "\n",
    "# Create contour object and add to the mapper\n",
    "curl = mapper.contourf(x,y,WINDCURL_OUT)\n",
    "\n",
    "# Add legend\n",
    "cb = mapper.colorbar(curl, size=\"5%\", pad=\"2%\")\n",
    "cb.set_label('Wind stress curl [x10^(-6) Pa m^(-1)]')\n",
    "\n",
    "plt.savefig('Fig2b_SI.png', format='png', dpi=1000)\n",
    "plt.show()"
   ]
  },
  {
   "cell_type": "code",
   "execution_count": 4,
   "metadata": {},
   "outputs": [
    {
     "data": {
      "text/plain": [
       "(40, 60)"
      ]
     },
     "execution_count": 4,
     "metadata": {},
     "output_type": "execute_result"
    }
   ],
   "source": [
    "WINDCURL_OUT.shape\n"
   ]
  },
  {
   "cell_type": "code",
   "execution_count": 5,
   "metadata": {},
   "outputs": [
    {
     "data": {
      "text/plain": [
       "(40, 60)"
      ]
     },
     "execution_count": 5,
     "metadata": {},
     "output_type": "execute_result"
    }
   ],
   "source": [
    "x.shape"
   ]
  },
  {
   "cell_type": "code",
   "execution_count": 7,
   "metadata": {},
   "outputs": [
    {
     "data": {
      "text/plain": [
       "(60,)"
      ]
     },
     "execution_count": 7,
     "metadata": {},
     "output_type": "execute_result"
    }
   ],
   "source": [
    "WINDCURL_OUT[0].shape\n"
   ]
  },
  {
   "cell_type": "code",
   "execution_count": 8,
   "metadata": {},
   "outputs": [
    {
     "data": {
      "text/plain": [
       "2400"
      ]
     },
     "execution_count": 8,
     "metadata": {},
     "output_type": "execute_result"
    }
   ],
   "source": [
    "40*60"
   ]
  },
  {
   "cell_type": "code",
   "execution_count": null,
   "metadata": {
    "collapsed": true
   },
   "outputs": [],
   "source": []
  }
 ],
 "metadata": {
  "kernelspec": {
   "display_name": "py2_parcels",
   "language": "python",
   "name": "py2_parcels"
  },
  "language_info": {
   "codemirror_mode": {
    "name": "ipython",
    "version": 2
   },
   "file_extension": ".py",
   "mimetype": "text/x-python",
   "name": "python",
   "nbconvert_exporter": "python",
   "pygments_lexer": "ipython2",
   "version": "2.7.14"
  }
 },
 "nbformat": 4,
 "nbformat_minor": 2
}
