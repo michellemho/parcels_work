{
 "cells": [
  {
   "cell_type": "markdown",
   "metadata": {},
   "source": [
    "Figure 1. Preliminary simulation of the dispersal of coral reef fish released in Florida. Cyan and red lines represent trajectories of fish that settled and did not settle, respectively. We track the fish from every release date to 78 days, and any fish within 2km, 5km, and 10km of any original release locations after 31 days are deemed \"settled\".\n",
    "\n",
    "Simulating two different periods of release dates:\n",
    "\n",
    "1. 17 April 2007 - 11 Sept 2007\n",
    "2. 6 April 2008 - 30 Sept 2008\n",
    "\n",
    "Time step is every 6 hours"
   ]
  },
  {
   "cell_type": "code",
   "execution_count": 19,
   "metadata": {
    "collapsed": true
   },
   "outputs": [],
   "source": [
    "from parcels import FieldSet, ParticleSet, JITParticle, AdvectionRK4, plotTrajectoriesFile, ErrorCode\n",
    "from datetime import timedelta\n",
    "import datetime\n",
    "import numpy as np\n",
    "from scipy.io import netcdf\n",
    "from netCDF4 import Dataset\n",
    "import pandas as pd\n",
    "\n",
    "from mpl_toolkits.basemap import Basemap\n",
    "\n",
    "import cartoframes\n",
    "\n",
    "# import urllib2\n",
    "# import StringIO\n",
    "# import csv\n",
    "import numpy as np\n",
    "# import scipy.interpolate\n",
    "import matplotlib.pyplot as plt\n",
    "# import pickle as pickle\n",
    "\n",
    "# first trying 2008\n",
    "filenames = {'U': \"florida_currents/2008_currents/*zu.nc\",\n",
    "             'V': \"florida_currents/2008_currents/*zv.nc\"}"
   ]
  },
  {
   "cell_type": "code",
   "execution_count": 20,
   "metadata": {
    "scrolled": true
   },
   "outputs": [
    {
     "data": {
      "text/plain": [
       "OrderedDict([(u'MT',\n",
       "              <type 'netCDF4._netCDF4.Dimension'> (unlimited): name = 'MT', size = 1),\n",
       "             (u'Latitude',\n",
       "              <type 'netCDF4._netCDF4.Dimension'>: name = 'Latitude', size = 361),\n",
       "             (u'Longitude',\n",
       "              <type 'netCDF4._netCDF4.Dimension'>: name = 'Longitude', size = 437),\n",
       "             (u'Depth',\n",
       "              <type 'netCDF4._netCDF4.Dimension'>: name = 'Depth', size = 7)])"
      ]
     },
     "execution_count": 20,
     "metadata": {},
     "output_type": "execute_result"
    }
   ],
   "source": [
    "# Check to see what time, depth, lat, and lon are called from a single file\n",
    "pfile = Dataset('florida_currents/2008_currents/902_archv.2008_161_00_3zu.nc', 'r')\n",
    "pfile.dimensions"
   ]
  },
  {
   "cell_type": "code",
   "execution_count": 21,
   "metadata": {
    "collapsed": true
   },
   "outputs": [],
   "source": [
    "variables = {'U': 'u',\n",
    "             'V': 'v'}\n",
    "dimensions = {'time': 'MT','depth': 'Depth',\n",
    "              'lat': 'Latitude',\n",
    "              'lon': 'Longitude'}"
   ]
  },
  {
   "cell_type": "code",
   "execution_count": 22,
   "metadata": {
    "collapsed": true
   },
   "outputs": [],
   "source": [
    "# if something wrong with time of fields... use allow_time_extrapolation = True?\n",
    "# may take a while, depending on timespan/size of files\n",
    "fieldset = FieldSet.from_netcdf(filenames, variables, dimensions, allow_time_extrapolation=True)"
   ]
  },
  {
   "cell_type": "code",
   "execution_count": 20,
   "metadata": {
    "scrolled": true
   },
   "outputs": [
    {
     "name": "stdout",
     "output_type": "stream",
     "text": [
      "147 days, 0:00:00\n",
      "177 days, 0:00:00\n"
     ]
    }
   ],
   "source": [
    "# check number of simulations\n",
    "print(datetime.date(2007,9,11) - datetime.date(2007,4,17))\n",
    "print(datetime.date(2008,9,30) - datetime.date(2008,4,6))"
   ]
  },
  {
   "cell_type": "code",
   "execution_count": 23,
   "metadata": {
    "scrolled": false
   },
   "outputs": [
    {
     "data": {
      "text/plain": [
       "3376684800.0"
      ]
     },
     "execution_count": 23,
     "metadata": {},
     "output_type": "execute_result"
    }
   ],
   "source": [
    "fieldset.V.grid.time[0]"
   ]
  },
  {
   "cell_type": "code",
   "execution_count": 24,
   "metadata": {
    "scrolled": true
   },
   "outputs": [
    {
     "data": {
      "text/plain": [
       "datetime.date(2008, 1, 1)"
      ]
     },
     "execution_count": 24,
     "metadata": {},
     "output_type": "execute_result"
    }
   ],
   "source": [
    "# verify the start date of the fieldset\n",
    "datetime.date(1900,12,31) + datetime.timedelta(seconds = fieldset.V.grid.time[0])"
   ]
  },
  {
   "cell_type": "code",
   "execution_count": 26,
   "metadata": {
    "scrolled": true
   },
   "outputs": [
    {
     "data": {
      "text/plain": [
       "384"
      ]
     },
     "execution_count": 26,
     "metadata": {},
     "output_type": "execute_result"
    }
   ],
   "source": [
    "dt = datetime.date(2008,4,6) - datetime.date(2008, 1, 1)\n",
    "# how many 6 hour intervals from january 1 2008 to april 6 2008?\n",
    "dt.days * 24/6"
   ]
  },
  {
   "cell_type": "code",
   "execution_count": 27,
   "metadata": {},
   "outputs": [
    {
     "data": {
      "text/plain": [
       "3384979200.0"
      ]
     },
     "execution_count": 27,
     "metadata": {},
     "output_type": "execute_result"
    }
   ],
   "source": [
    "fieldset.U.grid.time[384]"
   ]
  },
  {
   "cell_type": "code",
   "execution_count": 28,
   "metadata": {
    "collapsed": true
   },
   "outputs": [],
   "source": [
    "def DeleteParticle(particle, fieldset, time, dt):\n",
    "    particle.delete()"
   ]
  },
  {
   "cell_type": "code",
   "execution_count": 110,
   "metadata": {
    "collapsed": true
   },
   "outputs": [],
   "source": [
    "release_locations = pd.read_csv('florida_currents/release_FL.csv', header=None, names=['code','latitude','longitude'])\n",
    "lat = release_locations['latitude']\n",
    "lon = release_locations['longitude']"
   ]
  },
  {
   "cell_type": "code",
   "execution_count": 107,
   "metadata": {
    "scrolled": true
   },
   "outputs": [
    {
     "data": {
      "text/plain": [
       "22.775372"
      ]
     },
     "execution_count": 107,
     "metadata": {},
     "output_type": "execute_result"
    }
   ],
   "source": [
    "fieldset.V.grid.lat.min()"
   ]
  },
  {
   "cell_type": "code",
   "execution_count": 111,
   "metadata": {
    "scrolled": true
   },
   "outputs": [
    {
     "data": {
      "text/plain": [
       "23.15"
      ]
     },
     "execution_count": 111,
     "metadata": {},
     "output_type": "execute_result"
    }
   ],
   "source": [
    "lat.min()"
   ]
  },
  {
   "cell_type": "code",
   "execution_count": 115,
   "metadata": {},
   "outputs": [
    {
     "data": {
      "text/plain": [
       "-83.359985"
      ]
     },
     "execution_count": 115,
     "metadata": {},
     "output_type": "execute_result"
    }
   ],
   "source": [
    "fieldset.V.grid.lon.min()"
   ]
  },
  {
   "cell_type": "code",
   "execution_count": 114,
   "metadata": {},
   "outputs": [
    {
     "data": {
      "text/plain": [
       "-84.81"
      ]
     },
     "execution_count": 114,
     "metadata": {},
     "output_type": "execute_result"
    }
   ],
   "source": [
    "lon.min()"
   ]
  },
  {
   "cell_type": "code",
   "execution_count": 101,
   "metadata": {},
   "outputs": [],
   "source": [
    "# one particle per location, starting April 6 2008\n",
    "pset = ParticleSet(fieldset=fieldset, pclass=JITParticle, lon=lon, lat=lat)"
   ]
  },
  {
   "cell_type": "code",
   "execution_count": 103,
   "metadata": {},
   "outputs": [
    {
     "name": "stderr",
     "output_type": "stream",
     "text": [
      "INFO: Compiled JITParticleAdvectionRK4 ==> /var/folders/9x/568tyy852nx2b_w5rr1vwr8r0000gn/T/parcels-501/00eb3462908274024286128e77f3fae6.so\n"
     ]
    }
   ],
   "source": [
    "# Advect the particles for 78 days with dt 6 hours\n",
    "pset.execute(AdvectionRK4,\n",
    "             runtime=timedelta(days=78),  # runtime controls the interval of the plots\n",
    "             dt=timedelta(hours=1),\n",
    "             recovery={ErrorCode.ErrorOutOfBounds: DeleteParticle},\n",
    "             # the file name and the time step of the outputs) \n",
    "             output_file=pset.ParticleFile(name=\"release78_6\",\n",
    "                                           outputdt=timedelta(hours=6)))  "
   ]
  },
  {
   "cell_type": "code",
   "execution_count": 104,
   "metadata": {
    "scrolled": true
   },
   "outputs": [
    {
     "data": {
      "image/png": "[encoded data removed]",
      "text/plain": [
       "<matplotlib.figure.Figure at 0x1d3fefc0d0>"
      ]
     },
     "metadata": {},
     "output_type": "display_data"
    },
    {
     "data": {
      "text/plain": [
       "<module 'matplotlib.pyplot' from '/Users/michelleho/miniconda2/envs/py2_parcels/lib/python2.7/site-packages/matplotlib/pyplot.pyc'>"
      ]
     },
     "execution_count": 104,
     "metadata": {},
     "output_type": "execute_result"
    }
   ],
   "source": [
    "plt.plot(lon,lat, 'bo', markersize=10)\n",
    "plotTrajectoriesFile('release78_6.nc')"
   ]
  },
  {
   "cell_type": "markdown",
   "metadata": {},
   "source": [
    "# Parsing data"
   ]
  },
  {
   "cell_type": "code",
   "execution_count": 45,
   "metadata": {
    "collapsed": true
   },
   "outputs": [],
   "source": [
    "f = Dataset('release78.nc')"
   ]
  },
  {
   "cell_type": "code",
   "execution_count": 94,
   "metadata": {},
   "outputs": [
    {
     "data": {
      "text/plain": [
       "OrderedDict([(u'obs',\n",
       "              <type 'netCDF4._netCDF4.Dimension'> (unlimited): name = 'obs', size = 313),\n",
       "             (u'trajectory',\n",
       "              <type 'netCDF4._netCDF4.Dimension'>: name = 'trajectory', size = 273)])"
      ]
     },
     "execution_count": 94,
     "metadata": {},
     "output_type": "execute_result"
    }
   ],
   "source": [
    "f.dimensions"
   ]
  },
  {
   "cell_type": "code",
   "execution_count": null,
   "metadata": {
    "scrolled": true
   },
   "outputs": [],
   "source": [
    "# restructure the data from NC file to Dataframe\n",
    "# WARNING this can take a really long time!!!\n",
    "f = Dataset('release78_2.nc')\n",
    "\n",
    "newdata = []\n",
    "for n, idx in enumerate(f.variables['trajectory'][:]):\n",
    "    for i, t in enumerate(f.variables['time'][:][0]):\n",
    "        newdata.append([n, t, \n",
    "                        f.variables['lat'][:][n, i], \n",
    "                        f.variables['lon'][:][n, i]])\n",
    "df = pd.DataFrame.from_records(newdata, columns=['idx', 'time', 'lat', 'lon'])"
   ]
  },
  {
   "cell_type": "code",
   "execution_count": 53,
   "metadata": {
    "scrolled": true
   },
   "outputs": [
    {
     "data": {
      "text/html": [
       "<div>\n",
       "<style scoped>\n",
       "    .dataframe tbody tr th:only-of-type {\n",
       "        vertical-align: middle;\n",
       "    }\n",
       "\n",
       "    .dataframe tbody tr th {\n",
       "        vertical-align: top;\n",
       "    }\n",
       "\n",
       "    .dataframe thead th {\n",
       "        text-align: right;\n",
       "    }\n",
       "</style>\n",
       "<table border=\"1\" class=\"dataframe\">\n",
       "  <thead>\n",
       "    <tr style=\"text-align: right;\">\n",
       "      <th></th>\n",
       "      <th>idx</th>\n",
       "      <th>time</th>\n",
       "      <th>lat</th>\n",
       "      <th>lon</th>\n",
       "    </tr>\n",
       "  </thead>\n",
       "  <tbody>\n",
       "    <tr>\n",
       "      <th>0</th>\n",
       "      <td>0</td>\n",
       "      <td>3.39172e+09</td>\n",
       "      <td>25.4295</td>\n",
       "      <td>-80.18</td>\n",
       "    </tr>\n",
       "    <tr>\n",
       "      <th>1</th>\n",
       "      <td>0</td>\n",
       "      <td>3.39174e+09</td>\n",
       "      <td>25.4295</td>\n",
       "      <td>-80.18</td>\n",
       "    </tr>\n",
       "    <tr>\n",
       "      <th>2</th>\n",
       "      <td>0</td>\n",
       "      <td>3.39176e+09</td>\n",
       "      <td>25.4295</td>\n",
       "      <td>-80.18</td>\n",
       "    </tr>\n",
       "    <tr>\n",
       "      <th>3</th>\n",
       "      <td>0</td>\n",
       "      <td>3.39178e+09</td>\n",
       "      <td>25.4295</td>\n",
       "      <td>-80.18</td>\n",
       "    </tr>\n",
       "    <tr>\n",
       "      <th>4</th>\n",
       "      <td>0</td>\n",
       "      <td>3.3918e+09</td>\n",
       "      <td>25.4295</td>\n",
       "      <td>-80.18</td>\n",
       "    </tr>\n",
       "  </tbody>\n",
       "</table>\n",
       "</div>"
      ],
      "text/plain": [
       "   idx         time      lat    lon\n",
       "0    0  3.39172e+09  25.4295 -80.18\n",
       "1    0  3.39174e+09  25.4295 -80.18\n",
       "2    0  3.39176e+09  25.4295 -80.18\n",
       "3    0  3.39178e+09  25.4295 -80.18\n",
       "4    0   3.3918e+09  25.4295 -80.18"
      ]
     },
     "execution_count": 53,
     "metadata": {},
     "output_type": "execute_result"
    }
   ],
   "source": [
    "df.head()"
   ]
  },
  {
   "cell_type": "code",
   "execution_count": 125,
   "metadata": {},
   "outputs": [
    {
     "data": {
      "text/plain": [
       "masked"
      ]
     },
     "execution_count": 125,
     "metadata": {},
     "output_type": "execute_result"
    }
   ],
   "source": [
    "df.time.min(skipna=True)"
   ]
  },
  {
   "cell_type": "markdown",
   "metadata": {},
   "source": [
    "# Settlement Behavior"
   ]
  },
  {
   "cell_type": "code",
   "execution_count": 119,
   "metadata": {},
   "outputs": [],
   "source": [
    "# Credentials hidden\n",
    "cc = cartoframes.CartoContext(base_url='https://michellemho.carto.com', api_key='849e84b955d20367944dbf1e4fc00cef1d1abcd0')"
   ]
  },
  {
   "cell_type": "code",
   "execution_count": 127,
   "metadata": {
    "scrolled": true
   },
   "outputs": [
    {
     "name": "stdout",
     "output_type": "stream",
     "text": [
      "Table successfully written to CARTO: https://michellemho.carto.com/dataset/trajectories_preliminary\n",
      "`the_geom` column is being populated from `('lon', 'lat')`. Check the status of the operation with:\n",
      "    \u001b[1mBatchJobStatus(CartoContext(), '4ad38eb7-f41e-418d-9b08-a7bc62738bb6').status()\u001b[0m\n",
      "or try reading the table from CARTO in a couple of minutes.\n",
      "\u001b[1mNote:\u001b[0m `CartoContext.map` will not work on this table until its geometries are created.\n"
     ]
    },
    {
     "data": {
      "text/plain": [
       "BatchJobStatus(job_id='4ad38eb7-f41e-418d-9b08-a7bc62738bb6', last_status='pending', created_at='2018-08-03T18:23:37.150Z')"
      ]
     },
     "execution_count": 127,
     "metadata": {},
     "output_type": "execute_result"
    }
   ],
   "source": [
    "cc.write(df,'trajectories_preliminary', lnglat=('lon','lat'), overwrite=True)"
   ]
  },
  {
   "cell_type": "code",
   "execution_count": 26,
   "metadata": {
    "collapsed": true
   },
   "outputs": [],
   "source": [
    "release_locations = pd.read_csv('florida_currents/release_FL.csv', header=None, names=['code','latitude','longitude'])"
   ]
  },
  {
   "cell_type": "code",
   "execution_count": 121,
   "metadata": {
    "scrolled": true
   },
   "outputs": [
    {
     "name": "stdout",
     "output_type": "stream",
     "text": [
      "Table successfully written to CARTO: https://michellemho.carto.com/dataset/fl_release_sites\n"
     ]
    }
   ],
   "source": [
    "cc.write(release_locations, 'fl_release_sites', overwrite=True)"
   ]
  },
  {
   "cell_type": "code",
   "execution_count": 133,
   "metadata": {
    "collapsed": true,
    "scrolled": true
   },
   "outputs": [],
   "source": [
    "day0 = df.time.iloc[0]\n",
    "day31 = day0 + (60 * 60 * 24 * 31)"
   ]
  },
  {
   "cell_type": "code",
   "execution_count": 134,
   "metadata": {},
   "outputs": [
    {
     "data": {
      "text/plain": [
       "3394396800.0"
      ]
     },
     "execution_count": 134,
     "metadata": {},
     "output_type": "execute_result"
    }
   ],
   "source": [
    "# what timestamp corresponds to day 31?\n",
    "day31"
   ]
  },
  {
   "cell_type": "code",
   "execution_count": 140,
   "metadata": {
    "collapsed": true
   },
   "outputs": [],
   "source": [
    "settled_idx_query = '''\n",
    "WITH settle_day AS (SELECT idx, the_geom, the_geom_webmercator FROM trajectories_preliminary WHERE time = '{settle_day}')\n",
    "SELECT distinct(settle_day.idx)\n",
    "FROM settle_day INNER JOIN fl_release_sites ON ST_Intersects(settle_day.the_geom_webmercator, ST_Buffer(ST_transform(ST_SetSRID(fl_release_sites.the_geom,4326),3857), {buffer_km}))\n",
    "'''"
   ]
  },
  {
   "cell_type": "code",
   "execution_count": 141,
   "metadata": {},
   "outputs": [],
   "source": [
    "# CHANGE BUFFER DISTANCE AND DAY\n",
    "settled_idx = cc.query(settled_idx_query.format(settle_day=day31, buffer_km=10))"
   ]
  },
  {
   "cell_type": "code",
   "execution_count": 142,
   "metadata": {},
   "outputs": [
    {
     "data": {
      "text/html": [
       "<div>\n",
       "<style scoped>\n",
       "    .dataframe tbody tr th:only-of-type {\n",
       "        vertical-align: middle;\n",
       "    }\n",
       "\n",
       "    .dataframe tbody tr th {\n",
       "        vertical-align: top;\n",
       "    }\n",
       "\n",
       "    .dataframe thead th {\n",
       "        text-align: right;\n",
       "    }\n",
       "</style>\n",
       "<table border=\"1\" class=\"dataframe\">\n",
       "  <thead>\n",
       "    <tr style=\"text-align: right;\">\n",
       "      <th></th>\n",
       "      <th>idx</th>\n",
       "    </tr>\n",
       "  </thead>\n",
       "  <tbody>\n",
       "  </tbody>\n",
       "</table>\n",
       "</div>"
      ],
      "text/plain": [
       "Empty DataFrame\n",
       "Columns: [idx]\n",
       "Index: []"
      ]
     },
     "execution_count": 142,
     "metadata": {},
     "output_type": "execute_result"
    }
   ],
   "source": [
    "# Check which IDs settled\n",
    "settled_idx"
   ]
  },
  {
   "cell_type": "markdown",
   "metadata": {},
   "source": [
    "# Map trajectories with basemap"
   ]
  },
  {
   "cell_type": "code",
   "execution_count": 143,
   "metadata": {
    "scrolled": true
   },
   "outputs": [
    {
     "data": {
      "image/png": "[encoded data removed]",
      "text/plain": [
       "<matplotlib.figure.Figure at 0x1d3dca0b50>"
      ]
     },
     "metadata": {},
     "output_type": "display_data"
    }
   ],
   "source": [
    "import numpy as np\n",
    "from netCDF4 import Dataset\n",
    "import matplotlib.pyplot as plt\n",
    "from mpl_toolkits.basemap import Basemap\n",
    "%matplotlib inline\n",
    "\n",
    "pfile = Dataset('release78_6.nc', 'r')\n",
    "bath_data = Dataset('florida_currents/FKEYS_depth.nc')\n",
    "\n",
    "lon = pfile.variables['lon']\n",
    "lat = pfile.variables['lat']\n",
    "idx = pfile.variables['trajectory']\n",
    "\n",
    "# Set up the figure, change figsize as needed\n",
    "plt.figure(figsize=(12,6))\n",
    "\n",
    "# Set up mapper with a Basemap of coastal boundaries for Hawaii\n",
    "mapper = Basemap(projection='merc',\n",
    "                 llcrnrlon=np.nanmin(lon),\n",
    "                 llcrnrlat=np.nanmin(lat),\n",
    "                 urcrnrlon=np.nanmax(lon),\n",
    "                 urcrnrlat=np.nanmax(lat),\n",
    "                 resolution='i')\n",
    "mapper.drawmapboundary()\n",
    "mapper.drawcoastlines()\n",
    "mapper.fillcontinents(color='coral',lake_color='aqua')\n",
    "\n",
    "\n",
    "# plot each trajectory separately, in gold color\n",
    "# documentation: https://matplotlib.org/basemap/index.html\n",
    "for i, value in enumerate(idx):\n",
    "    lons = lon[:][i]\n",
    "    lats = lat[:][i]\n",
    "    if i in settled_idx.idx.values:\n",
    "        color = 'cyan'\n",
    "        zorder = 2\n",
    "    else:\n",
    "        color = 'red'\n",
    "        zorder = 1\n",
    "    mapper.plot(np.array(lons), np.array(lats), latlon=True, color=color, zorder=zorder)\n",
    "\n",
    "# Set up processing for bathymetry data\n",
    "lats = bath_data.variables['Latitude'][:]\n",
    "lons = bath_data.variables['Longitude'][:]\n",
    "BATHY_OUT = bath_data.variables['bathymetry'][:] # etopo1 bedrock global relief model-topography/bathymetry (m)\n",
    "\n",
    "lons,lats= np.meshgrid(lons,lats)\n",
    "x,y = mapper(lons,lats)\n",
    "\n",
    "# Create contour object and add to the mapper\n",
    "depth = mapper.contourf(x,y,BATHY_OUT[0])\n",
    "\n",
    "# plot release sites\n",
    "\n",
    "# Add legend\n",
    "cb = mapper.colorbar(depth,\"bottom\", size=\"5%\", pad=\"2%\")\n",
    "cb.set_label('Bathymetry (m)')\n",
    "\n",
    "# Change plot titles\n",
    "plt.title('Trajectories over 78 Days', fontsize=20)\n",
    "# plt.savefig('Trajectories_45_Settlement.png')\n",
    "\n",
    "plt.show()"
   ]
  },
  {
   "cell_type": "markdown",
   "metadata": {},
   "source": [
    "# FIGURE 2 NOT COMPLETE YET"
   ]
  },
  {
   "cell_type": "markdown",
   "metadata": {
    "collapsed": true
   },
   "source": [
    "Figure 2. Connectivity patterns throughout the Florida Keys and offshore waters from the 313 release locations (red dots). Lines represent connections, not dispersal trajectories. Their color is proportional to the intensity of the connections."
   ]
  },
  {
   "cell_type": "code",
   "execution_count": 179,
   "metadata": {
    "collapsed": true
   },
   "outputs": [],
   "source": [
    "release_locations = pd.read_csv('ReefCellData_for_Johanna_23June2014.csv', header=None, names=['value','name','code','latitude','longitude'])\n",
    "lat = release_locations['latitude']\n",
    "lon = release_locations['longitude']"
   ]
  },
  {
   "cell_type": "code",
   "execution_count": 73,
   "metadata": {
    "scrolled": true
   },
   "outputs": [
    {
     "data": {
      "text/plain": [
       "(2730,)"
      ]
     },
     "execution_count": 73,
     "metadata": {},
     "output_type": "execute_result"
    }
   ],
   "source": [
    "np.tile(lon,npart).shape"
   ]
  },
  {
   "cell_type": "code",
   "execution_count": 75,
   "metadata": {},
   "outputs": [
    {
     "data": {
      "text/plain": [
       "(273,)"
      ]
     },
     "execution_count": 75,
     "metadata": {},
     "output_type": "execute_result"
    }
   ],
   "source": [
    "lat.shape"
   ]
  },
  {
   "cell_type": "code",
   "execution_count": 79,
   "metadata": {},
   "outputs": [],
   "source": [
    "# repeat 10 times\n",
    "npart = 10\n",
    "# 384 corresponds to April 6 2008\n",
    "pset = ParticleSet(fieldset=fieldset, pclass=JITParticle,\n",
    "                   lon=np.tile(lon,npart), lat=np.tile(lat,npart))"
   ]
  },
  {
   "cell_type": "code",
   "execution_count": 80,
   "metadata": {
    "collapsed": true
   },
   "outputs": [],
   "source": [
    "def turbVal(particle, fieldset, time, dt):\n",
    "    # This if-statement is meant to trigger when the current time is a quarter interval of the model timestep\n",
    "    # but I'm not sure it's working... need to double-check\n",
    "    if math.fmod(time,dt/4) == 0:\n",
    "        horDiff = 100\n",
    "        uturb = math.sqrt(((2*horDiff)/dt)) * random.uniform(-1,1) # Important! Should this be random.random()???\n",
    "        # should set random seed somewhere too...?\n",
    "        particle.lat += uturb * dt/1.1e5\n",
    "        vturb = math.sqrt(((2*horDiff)/dt)) * random.uniform(-1,1)\n",
    "        particle.lon += vturb * dt/1.1e5\n",
    "k_turbVal = pset.Kernel(turbVal)        # casting the turbVal function to a kernel object"
   ]
  },
  {
   "cell_type": "code",
   "execution_count": 88,
   "metadata": {
    "scrolled": false
   },
   "outputs": [
    {
     "name": "stderr",
     "output_type": "stream",
     "text": [
      "INFO: Compiled JITParticleAdvectionRK4turbVal ==> /var/folders/9x/568tyy852nx2b_w5rr1vwr8r0000gn/T/parcels-501/1d363333bd7062210bb1c27c7bf616aa.so\n"
     ]
    }
   ],
   "source": [
    "# Advect the particles, single release repeated n times, for 45 days with dt 1 day with turbulence\n",
    "pset.execute(AdvectionRK4 + k_turbVal,\n",
    "             runtime=timedelta(days=78), # runtime controls the interval of the plots\n",
    "             dt=timedelta(hours=1),\n",
    "             recovery={ErrorCode.ErrorOutOfBounds: DeleteParticle},\n",
    "             output_file=pset.ParticleFile(name='{}_npart_78'.format(npart), outputdt=timedelta(hours=6)))  # the file name and the time step of the outputs) "
   ]
  },
  {
   "cell_type": "code",
   "execution_count": 87,
   "metadata": {},
   "outputs": [
    {
     "data": {
      "image/png": "[encoded data removed]",
      "text/plain": [
       "<matplotlib.figure.Figure at 0x1d476a3050>"
      ]
     },
     "metadata": {},
     "output_type": "display_data"
    },
    {
     "data": {
      "text/plain": [
       "<module 'matplotlib.pyplot' from '/Users/michelleho/miniconda2/envs/py2_parcels/lib/python2.7/site-packages/matplotlib/pyplot.pyc'>"
      ]
     },
     "execution_count": 87,
     "metadata": {},
     "output_type": "execute_result"
    }
   ],
   "source": [
    "plotTrajectoriesFile('{}_npart_78.nc'.format(npart))"
   ]
  },
  {
   "cell_type": "code",
   "execution_count": 3,
   "metadata": {
    "collapsed": true
   },
   "outputs": [],
   "source": [
    "day45 = 35337600.0 # aka the last timestamp"
   ]
  },
  {
   "cell_type": "code",
   "execution_count": 30,
   "metadata": {
    "scrolled": true
   },
   "outputs": [
    {
     "data": {
      "text/plain": [
       "68700"
      ]
     },
     "execution_count": 30,
     "metadata": {},
     "output_type": "execute_result"
    }
   ],
   "source": [
    "# Number of particles released\n",
    "len(set(f.variables['trajectory']))"
   ]
  },
  {
   "cell_type": "code",
   "execution_count": 97,
   "metadata": {
    "scrolled": false
   },
   "outputs": [
    {
     "data": {
      "text/plain": [
       "(3435, 46)"
      ]
     },
     "execution_count": 97,
     "metadata": {},
     "output_type": "execute_result"
    }
   ],
   "source": [
    "f.variables['time'].shape"
   ]
  },
  {
   "cell_type": "code",
   "execution_count": 19,
   "metadata": {},
   "outputs": [
    {
     "data": {
      "text/plain": [
       "array([34992000., 34992000., 34992000., ..., 34992000., 34992000.,\n",
       "       34992000.])"
      ]
     },
     "execution_count": 19,
     "metadata": {},
     "output_type": "execute_result"
    }
   ],
   "source": [
    "f.variables['time'][:,-5]"
   ]
  },
  {
   "cell_type": "code",
   "execution_count": 20,
   "metadata": {
    "collapsed": true,
    "scrolled": true
   },
   "outputs": [],
   "source": [
    "day45_lon = f.variables['lon'][:,-5]\n",
    "day45_lat = f.variables['lat'][:,-5]\n",
    "\n",
    "day1_lon = f.variables['lon'][:,0]\n",
    "day1_lat = f.variables['lat'][:,0]"
   ]
  },
  {
   "cell_type": "code",
   "execution_count": 21,
   "metadata": {
    "collapsed": true
   },
   "outputs": [],
   "source": [
    "df = pd.DataFrame(data=[day1_lat,day1_lon, day45_lat, day45_lon]).T"
   ]
  },
  {
   "cell_type": "code",
   "execution_count": 22,
   "metadata": {
    "collapsed": true
   },
   "outputs": [],
   "source": [
    "df.columns = ['day1_lat','day1_lon', 'day45_lat', 'day45_lon']"
   ]
  },
  {
   "cell_type": "code",
   "execution_count": 23,
   "metadata": {
    "collapsed": true
   },
   "outputs": [],
   "source": [
    "df = df.astype('float')"
   ]
  },
  {
   "cell_type": "code",
   "execution_count": 24,
   "metadata": {},
   "outputs": [
    {
     "data": {
      "text/html": [
       "<div>\n",
       "<style scoped>\n",
       "    .dataframe tbody tr th:only-of-type {\n",
       "        vertical-align: middle;\n",
       "    }\n",
       "\n",
       "    .dataframe tbody tr th {\n",
       "        vertical-align: top;\n",
       "    }\n",
       "\n",
       "    .dataframe thead th {\n",
       "        text-align: right;\n",
       "    }\n",
       "</style>\n",
       "<table border=\"1\" class=\"dataframe\">\n",
       "  <thead>\n",
       "    <tr style=\"text-align: right;\">\n",
       "      <th></th>\n",
       "      <th>day1_lat</th>\n",
       "      <th>day1_lon</th>\n",
       "      <th>day45_lat</th>\n",
       "      <th>day45_lon</th>\n",
       "    </tr>\n",
       "  </thead>\n",
       "  <tbody>\n",
       "    <tr>\n",
       "      <th>0</th>\n",
       "      <td>28.501778</td>\n",
       "      <td>-178.369614</td>\n",
       "      <td>28.537651</td>\n",
       "      <td>-177.050308</td>\n",
       "    </tr>\n",
       "    <tr>\n",
       "      <th>1</th>\n",
       "      <td>28.501778</td>\n",
       "      <td>-178.261810</td>\n",
       "      <td>28.546841</td>\n",
       "      <td>-177.907013</td>\n",
       "    </tr>\n",
       "    <tr>\n",
       "      <th>2</th>\n",
       "      <td>28.470032</td>\n",
       "      <td>-178.369614</td>\n",
       "      <td>28.473461</td>\n",
       "      <td>-176.266800</td>\n",
       "    </tr>\n",
       "    <tr>\n",
       "      <th>3</th>\n",
       "      <td>28.470032</td>\n",
       "      <td>-178.261810</td>\n",
       "      <td>28.678768</td>\n",
       "      <td>-179.028610</td>\n",
       "    </tr>\n",
       "    <tr>\n",
       "      <th>4</th>\n",
       "      <td>28.438274</td>\n",
       "      <td>-178.369614</td>\n",
       "      <td>28.745375</td>\n",
       "      <td>-176.634705</td>\n",
       "    </tr>\n",
       "  </tbody>\n",
       "</table>\n",
       "</div>"
      ],
      "text/plain": [
       "    day1_lat    day1_lon  day45_lat   day45_lon\n",
       "0  28.501778 -178.369614  28.537651 -177.050308\n",
       "1  28.501778 -178.261810  28.546841 -177.907013\n",
       "2  28.470032 -178.369614  28.473461 -176.266800\n",
       "3  28.470032 -178.261810  28.678768 -179.028610\n",
       "4  28.438274 -178.369614  28.745375 -176.634705"
      ]
     },
     "execution_count": 24,
     "metadata": {},
     "output_type": "execute_result"
    }
   ],
   "source": [
    "df.head()"
   ]
  },
  {
   "cell_type": "code",
   "execution_count": 25,
   "metadata": {
    "collapsed": true
   },
   "outputs": [],
   "source": [
    "cc = cartoframes.CartoContext()"
   ]
  },
  {
   "cell_type": "code",
   "execution_count": 26,
   "metadata": {
    "scrolled": false
   },
   "outputs": [
    {
     "name": "stderr",
     "output_type": "stream",
     "text": [
      "/Users/mho/anaconda3/envs/py2_parcels/lib/python2.7/site-packages/carto/resources.py:90: FutureWarning: This is part of a non-public CARTO API and may change in the future. Take this into account if you are using this in a production environment\n",
      "  warnings.warn('This is part of a non-public CARTO API and may change in the future. Take this into account if you are using this in a production environment', FutureWarning)\n"
     ]
    },
    {
     "name": "stdout",
     "output_type": "stream",
     "text": [
      "Table successfully written to CARTO: https://michellemho-carto.carto.com/dataset/day45_position_100n\n",
      "`the_geom` column is being populated from `('day45_lon', 'day45_lat')`. Check the status of the operation with:\n",
      "    \u001b[1mBatchJobStatus(CartoContext(), '4c807061-57bc-408f-a73e-9d0f6d1fd18d').status()\u001b[0m\n",
      "or try reading the table from CARTO in a couple of minutes.\n",
      "\u001b[1mNote:\u001b[0m `CartoContext.map` will not work on this table until its geometries are created.\n"
     ]
    },
    {
     "data": {
      "text/plain": [
       "BatchJobStatus(job_id='4c807061-57bc-408f-a73e-9d0f6d1fd18d', last_status='pending', created_at='2018-05-04T16:02:12.543Z')"
      ]
     },
     "execution_count": 26,
     "metadata": {},
     "output_type": "execute_result"
    }
   ],
   "source": [
    "cc.write(df, 'day45_position_{}n'.format(npart), lnglat=('day45_lon','day45_lat'), overwrite=True)"
   ]
  },
  {
   "cell_type": "code",
   "execution_count": 34,
   "metadata": {},
   "outputs": [
    {
     "data": {
      "text/plain": [
       "{'created_at': u'2018-05-04T16:02:12.543Z',\n",
       " 'status': u'done',\n",
       " 'updated_at': u'2018-05-04T16:03:46.735Z'}"
      ]
     },
     "execution_count": 34,
     "metadata": {},
     "output_type": "execute_result"
    }
   ],
   "source": [
    "cartoframes.BatchJobStatus(cc, '4c807061-57bc-408f-a73e-9d0f6d1fd18d').status()"
   ]
  },
  {
   "cell_type": "code",
   "execution_count": 157,
   "metadata": {
    "collapsed": true
   },
   "outputs": [],
   "source": [
    "# For each particle, find the nearest polygon at day 45\n",
    "\n",
    "find_the_nearest_settlement_polygon = '''\n",
    "WITH day45 AS (SELECT cartodb_id, idx, the_geom, the_geom_webmercator FROM trajectories_5n WHERE time = 35337600),\n",
    "closest_polygon AS (SELECT\n",
    "  particle_location.cartodb_id,\n",
    "  particle_location.idx,\n",
    "  particle_location.the_geom,\n",
    "  particle_location.the_geom_webmercator,\n",
    "  settlement_polygon.cartodb_id as settlement_id,\n",
    "ST_Distance(geography(settlement_polygon.the_geom), geography(particle_location.the_geom), false) AS distance\n",
    "FROM\n",
    "  day45 AS particle_location\n",
    "CROSS JOIN LATERAL\n",
    "  (SELECT *\n",
    "   FROM release_sites\n",
    "   ORDER BY\n",
    "     particle_location.the_geom_webmercator <-> the_geom_webmercator\n",
    "   LIMIT 1) AS settlement_polygon)\n",
    "SELECT * from closest_polygon\n",
    "WHERE distance < 5000\n",
    "'''"
   ]
  },
  {
   "cell_type": "code",
   "execution_count": 35,
   "metadata": {
    "collapsed": true
   },
   "outputs": [],
   "source": [
    "# For each particle, find the nearest polygon at day 45 (FOR REPEATED)\n",
    "\n",
    "find_the_nearest_settlement_polygon_n = '''\n",
    "WITH closest_polygon AS (SELECT\n",
    "  particle_location.cartodb_id,\n",
    "  particle_location.day1_lat,\n",
    "  particle_location.day1_lon,\n",
    "  particle_location.the_geom,\n",
    "  particle_location.the_geom_webmercator,\n",
    "  settlement_polygon.cartodb_id as settlement_id,\n",
    "  ST_Distance(geography(settlement_polygon.the_geom), geography(particle_location.the_geom), false) AS distance\n",
    "    FROM\n",
    "  day45_position_{}n AS particle_location\n",
    "    CROSS JOIN LATERAL\n",
    "      (SELECT *\n",
    "       FROM release_sites\n",
    "       ORDER BY\n",
    "         particle_location.the_geom_webmercator <-> the_geom_webmercator\n",
    "       LIMIT 1) AS settlement_polygon)\n",
    "SELECT * from closest_polygon\n",
    "WHERE distance < 5000\n",
    "'''"
   ]
  },
  {
   "cell_type": "code",
   "execution_count": 36,
   "metadata": {
    "collapsed": true
   },
   "outputs": [],
   "source": [
    "cc = cartoframes.CartoContext()"
   ]
  },
  {
   "cell_type": "code",
   "execution_count": 37,
   "metadata": {},
   "outputs": [
    {
     "name": "stdout",
     "output_type": "stream",
     "text": [
      "Table successfully written to CARTO: https://michellemho-carto.carto.com/dataset/connectivity_output_100n\n"
     ]
    }
   ],
   "source": [
    "connectivity_output = cc.query(find_the_nearest_settlement_polygon_n.format(npart),\n",
    "                               table_name = 'connectivity_output_{}n'.format(npart))"
   ]
  },
  {
   "cell_type": "code",
   "execution_count": 38,
   "metadata": {
    "collapsed": true
   },
   "outputs": [],
   "source": [
    "aggregate_connectivity = '''\n",
    "SELECT day1_lat, day1_lon, settlement_id, count(*) FROM connectivity_output_{}n\n",
    "GROUP BY day1_lat, day1_lon, settlement_id\n",
    "ORDER BY count DESC\n",
    "'''"
   ]
  },
  {
   "cell_type": "code",
   "execution_count": 39,
   "metadata": {
    "scrolled": true
   },
   "outputs": [
    {
     "name": "stdout",
     "output_type": "stream",
     "text": [
      "Table successfully written to CARTO: https://michellemho-carto.carto.com/dataset/aggregate_connectivity_100n\n"
     ]
    }
   ],
   "source": [
    "aggregate_connectivity = cc.query(aggregate_connectivity.format(npart),\n",
    "                                  table_name = 'aggregate_connectivity_{}n'.format(npart))"
   ]
  },
  {
   "cell_type": "code",
   "execution_count": 41,
   "metadata": {
    "scrolled": true
   },
   "outputs": [
    {
     "data": {
      "text/html": [
       "<div>\n",
       "<style scoped>\n",
       "    .dataframe tbody tr th:only-of-type {\n",
       "        vertical-align: middle;\n",
       "    }\n",
       "\n",
       "    .dataframe tbody tr th {\n",
       "        vertical-align: top;\n",
       "    }\n",
       "\n",
       "    .dataframe thead th {\n",
       "        text-align: right;\n",
       "    }\n",
       "</style>\n",
       "<table border=\"1\" class=\"dataframe\">\n",
       "  <thead>\n",
       "    <tr style=\"text-align: right;\">\n",
       "      <th></th>\n",
       "      <th>value</th>\n",
       "      <th>name</th>\n",
       "      <th>code</th>\n",
       "      <th>latitude</th>\n",
       "      <th>longitude</th>\n",
       "    </tr>\n",
       "  </thead>\n",
       "  <tbody>\n",
       "    <tr>\n",
       "      <th>0</th>\n",
       "      <td>0.066875</td>\n",
       "      <td>Kure Atoll</td>\n",
       "      <td>NOAA NCCOS</td>\n",
       "      <td>28.501778</td>\n",
       "      <td>-178.369614</td>\n",
       "    </tr>\n",
       "    <tr>\n",
       "      <th>1</th>\n",
       "      <td>0.015000</td>\n",
       "      <td>Kure Atoll</td>\n",
       "      <td>NOAA NCCOS</td>\n",
       "      <td>28.501778</td>\n",
       "      <td>-178.261817</td>\n",
       "    </tr>\n",
       "    <tr>\n",
       "      <th>2</th>\n",
       "      <td>0.115000</td>\n",
       "      <td>Kure Atoll</td>\n",
       "      <td>NOAA NCCOS</td>\n",
       "      <td>28.470031</td>\n",
       "      <td>-178.369614</td>\n",
       "    </tr>\n",
       "    <tr>\n",
       "      <th>3</th>\n",
       "      <td>0.237500</td>\n",
       "      <td>Kure Atoll</td>\n",
       "      <td>NOAA NCCOS</td>\n",
       "      <td>28.470031</td>\n",
       "      <td>-178.261817</td>\n",
       "    </tr>\n",
       "    <tr>\n",
       "      <th>4</th>\n",
       "      <td>0.266250</td>\n",
       "      <td>Kure Atoll</td>\n",
       "      <td>NOAA NCCOS</td>\n",
       "      <td>28.438274</td>\n",
       "      <td>-178.369614</td>\n",
       "    </tr>\n",
       "  </tbody>\n",
       "</table>\n",
       "</div>"
      ],
      "text/plain": [
       "      value        name        code   latitude   longitude\n",
       "0  0.066875  Kure Atoll  NOAA NCCOS  28.501778 -178.369614\n",
       "1  0.015000  Kure Atoll  NOAA NCCOS  28.501778 -178.261817\n",
       "2  0.115000  Kure Atoll  NOAA NCCOS  28.470031 -178.369614\n",
       "3  0.237500  Kure Atoll  NOAA NCCOS  28.470031 -178.261817\n",
       "4  0.266250  Kure Atoll  NOAA NCCOS  28.438274 -178.369614"
      ]
     },
     "execution_count": 41,
     "metadata": {},
     "output_type": "execute_result"
    }
   ],
   "source": [
    "release_locations.head()"
   ]
  },
  {
   "cell_type": "code",
   "execution_count": 42,
   "metadata": {},
   "outputs": [
    {
     "name": "stdout",
     "output_type": "stream",
     "text": [
      "Table successfully written to CARTO: https://michellemho-carto.carto.com/dataset/release_sites_original\n"
     ]
    }
   ],
   "source": [
    "cc.write(release_locations, 'release_sites_original', lnglat = ('longitude','latitude'))"
   ]
  },
  {
   "cell_type": "code",
   "execution_count": null,
   "metadata": {
    "collapsed": true
   },
   "outputs": [],
   "source": [
    "origin_time = 31449600"
   ]
  },
  {
   "cell_type": "code",
   "execution_count": 165,
   "metadata": {
    "collapsed": true
   },
   "outputs": [],
   "source": [
    "make_lines_aggcount = '''\n",
    "SELECT row_number() OVER () As cartodb_id, ST_MAKELINE(s.the_geom, d.the_geom) as the_geom,\n",
    "      ST_Transform(ST_MAKELINE(s.the_geom, d.the_geom), 3857) as the_geom_webmercator,\n",
    "      s.cartodb_id origin_id, d.cartodb_id dest_id, sum(count)\n",
    "FROM release_sites_original  s, release_sites_original d , (select * from aggregate_connectivity_5n) data_table\n",
    "WHERE s.latitude = data_table.day1_lat AND s.longitude = data_table.day1_lon AND d.cartodb_id = data_table.settlement_id\n",
    "group by ST_MAKELINE(s.the_geom, d.the_geom), s.cartodb_id + d.cartodb_id, s.cartodb_id, d.cartodb_id\n",
    "'''"
   ]
  },
  {
   "cell_type": "code",
   "execution_count": 40,
   "metadata": {
    "collapsed": true
   },
   "outputs": [],
   "source": [
    "make_lines_aggcount_WITH_ORIGIN_LAT_LON = '''\n",
    "SELECT row_number() OVER () As cartodb_id, ST_MAKELINE(ST_SetSRID(ST_POINT(data_table.day1_lon,data_table.day1_lat),4326), d.the_geom) as the_geom,\n",
    "      ST_Transform(ST_MAKELINE(ST_SetSRID(ST_POINT(data_table.day1_lon,data_table.day1_lat),4326), d.the_geom), 3857) as the_geom_webmercator,\n",
    "      sum(data_table.count)\n",
    "FROM release_sites_original  d, (select * from aggregate_connectivity_{}n) data_table\n",
    "WHERE d.cartodb_id = data_table.settlement_id\n",
    "group by ST_MAKELINE(ST_SetSRID(ST_POINT(data_table.day1_lon,data_table.day1_lat),4326), d.the_geom)\n",
    "'''"
   ]
  },
  {
   "cell_type": "code",
   "execution_count": 41,
   "metadata": {
    "scrolled": true
   },
   "outputs": [
    {
     "name": "stdout",
     "output_type": "stream",
     "text": [
      "Table successfully written to CARTO: https://michellemho-carto.carto.com/dataset/connectivity_lines_100n\n"
     ]
    },
    {
     "data": {
      "text/html": [
       "<div>\n",
       "<style scoped>\n",
       "    .dataframe tbody tr th:only-of-type {\n",
       "        vertical-align: middle;\n",
       "    }\n",
       "\n",
       "    .dataframe tbody tr th {\n",
       "        vertical-align: top;\n",
       "    }\n",
       "\n",
       "    .dataframe thead th {\n",
       "        text-align: right;\n",
       "    }\n",
       "</style>\n",
       "<table border=\"1\" class=\"dataframe\">\n",
       "  <thead>\n",
       "    <tr style=\"text-align: right;\">\n",
       "      <th></th>\n",
       "      <th>sum</th>\n",
       "      <th>the_geom</th>\n",
       "    </tr>\n",
       "    <tr>\n",
       "      <th>cartodb_id</th>\n",
       "      <th></th>\n",
       "      <th></th>\n",
       "    </tr>\n",
       "  </thead>\n",
       "  <tbody>\n",
       "    <tr>\n",
       "      <th>1</th>\n",
       "      <td>1</td>\n",
       "      <td>0105000020E61000000100000001020000000200000000...</td>\n",
       "    </tr>\n",
       "    <tr>\n",
       "      <th>2</th>\n",
       "      <td>1</td>\n",
       "      <td>0105000020E61000000100000001020000000200000000...</td>\n",
       "    </tr>\n",
       "    <tr>\n",
       "      <th>3</th>\n",
       "      <td>1</td>\n",
       "      <td>0105000020E61000000100000001020000000200000000...</td>\n",
       "    </tr>\n",
       "    <tr>\n",
       "      <th>4</th>\n",
       "      <td>1</td>\n",
       "      <td>0105000020E61000000100000001020000000200000000...</td>\n",
       "    </tr>\n",
       "    <tr>\n",
       "      <th>5</th>\n",
       "      <td>1</td>\n",
       "      <td>0105000020E61000000100000001020000000200000000...</td>\n",
       "    </tr>\n",
       "    <tr>\n",
       "      <th>6</th>\n",
       "      <td>1</td>\n",
       "      <td>0105000020E61000000100000001020000000200000000...</td>\n",
       "    </tr>\n",
       "    <tr>\n",
       "      <th>7</th>\n",
       "      <td>1</td>\n",
       "      <td>0105000020E61000000100000001020000000200000000...</td>\n",
       "    </tr>\n",
       "    <tr>\n",
       "      <th>8</th>\n",
       "      <td>1</td>\n",
       "      <td>0105000020E61000000100000001020000000200000000...</td>\n",
       "    </tr>\n",
       "    <tr>\n",
       "      <th>9</th>\n",
       "      <td>1</td>\n",
       "      <td>0105000020E61000000100000001020000000200000000...</td>\n",
       "    </tr>\n",
       "    <tr>\n",
       "      <th>10</th>\n",
       "      <td>1</td>\n",
       "      <td>0105000020E61000000100000001020000000200000000...</td>\n",
       "    </tr>\n",
       "    <tr>\n",
       "      <th>11</th>\n",
       "      <td>1</td>\n",
       "      <td>0105000020E61000000100000001020000000200000000...</td>\n",
       "    </tr>\n",
       "    <tr>\n",
       "      <th>12</th>\n",
       "      <td>2</td>\n",
       "      <td>0105000020E61000000100000001020000000200000000...</td>\n",
       "    </tr>\n",
       "    <tr>\n",
       "      <th>13</th>\n",
       "      <td>2</td>\n",
       "      <td>0105000020E61000000100000001020000000200000000...</td>\n",
       "    </tr>\n",
       "    <tr>\n",
       "      <th>14</th>\n",
       "      <td>1</td>\n",
       "      <td>0105000020E61000000100000001020000000200000000...</td>\n",
       "    </tr>\n",
       "    <tr>\n",
       "      <th>15</th>\n",
       "      <td>1</td>\n",
       "      <td>0105000020E61000000100000001020000000200000000...</td>\n",
       "    </tr>\n",
       "    <tr>\n",
       "      <th>16</th>\n",
       "      <td>1</td>\n",
       "      <td>0105000020E61000000100000001020000000200000000...</td>\n",
       "    </tr>\n",
       "    <tr>\n",
       "      <th>17</th>\n",
       "      <td>1</td>\n",
       "      <td>0105000020E61000000100000001020000000200000000...</td>\n",
       "    </tr>\n",
       "    <tr>\n",
       "      <th>18</th>\n",
       "      <td>1</td>\n",
       "      <td>0105000020E61000000100000001020000000200000000...</td>\n",
       "    </tr>\n",
       "    <tr>\n",
       "      <th>19</th>\n",
       "      <td>2</td>\n",
       "      <td>0105000020E61000000100000001020000000200000000...</td>\n",
       "    </tr>\n",
       "    <tr>\n",
       "      <th>20</th>\n",
       "      <td>1</td>\n",
       "      <td>0105000020E61000000100000001020000000200000000...</td>\n",
       "    </tr>\n",
       "    <tr>\n",
       "      <th>21</th>\n",
       "      <td>1</td>\n",
       "      <td>0105000020E61000000100000001020000000200000000...</td>\n",
       "    </tr>\n",
       "    <tr>\n",
       "      <th>22</th>\n",
       "      <td>1</td>\n",
       "      <td>0105000020E61000000100000001020000000200000000...</td>\n",
       "    </tr>\n",
       "    <tr>\n",
       "      <th>23</th>\n",
       "      <td>1</td>\n",
       "      <td>0105000020E61000000100000001020000000200000000...</td>\n",
       "    </tr>\n",
       "    <tr>\n",
       "      <th>24</th>\n",
       "      <td>1</td>\n",
       "      <td>0105000020E61000000100000001020000000200000000...</td>\n",
       "    </tr>\n",
       "    <tr>\n",
       "      <th>25</th>\n",
       "      <td>2</td>\n",
       "      <td>0105000020E61000000100000001020000000200000000...</td>\n",
       "    </tr>\n",
       "    <tr>\n",
       "      <th>26</th>\n",
       "      <td>1</td>\n",
       "      <td>0105000020E61000000100000001020000000200000000...</td>\n",
       "    </tr>\n",
       "    <tr>\n",
       "      <th>27</th>\n",
       "      <td>1</td>\n",
       "      <td>0105000020E61000000100000001020000000200000000...</td>\n",
       "    </tr>\n",
       "    <tr>\n",
       "      <th>28</th>\n",
       "      <td>2</td>\n",
       "      <td>0105000020E61000000100000001020000000200000000...</td>\n",
       "    </tr>\n",
       "    <tr>\n",
       "      <th>29</th>\n",
       "      <td>1</td>\n",
       "      <td>0105000020E61000000100000001020000000200000000...</td>\n",
       "    </tr>\n",
       "    <tr>\n",
       "      <th>30</th>\n",
       "      <td>1</td>\n",
       "      <td>0105000020E61000000100000001020000000200000000...</td>\n",
       "    </tr>\n",
       "    <tr>\n",
       "      <th>...</th>\n",
       "      <td>...</td>\n",
       "      <td>...</td>\n",
       "    </tr>\n",
       "    <tr>\n",
       "      <th>6515</th>\n",
       "      <td>1</td>\n",
       "      <td>0105000020E61000000100000001020000000200000000...</td>\n",
       "    </tr>\n",
       "    <tr>\n",
       "      <th>6516</th>\n",
       "      <td>1</td>\n",
       "      <td>0105000020E61000000100000001020000000200000000...</td>\n",
       "    </tr>\n",
       "    <tr>\n",
       "      <th>6517</th>\n",
       "      <td>3</td>\n",
       "      <td>0105000020E61000000100000001020000000200000000...</td>\n",
       "    </tr>\n",
       "    <tr>\n",
       "      <th>6518</th>\n",
       "      <td>1</td>\n",
       "      <td>0105000020E61000000100000001020000000200000000...</td>\n",
       "    </tr>\n",
       "    <tr>\n",
       "      <th>6519</th>\n",
       "      <td>2</td>\n",
       "      <td>0105000020E61000000100000001020000000200000000...</td>\n",
       "    </tr>\n",
       "    <tr>\n",
       "      <th>6520</th>\n",
       "      <td>1</td>\n",
       "      <td>0105000020E61000000100000001020000000200000000...</td>\n",
       "    </tr>\n",
       "    <tr>\n",
       "      <th>6521</th>\n",
       "      <td>3</td>\n",
       "      <td>0105000020E61000000100000001020000000200000000...</td>\n",
       "    </tr>\n",
       "    <tr>\n",
       "      <th>6522</th>\n",
       "      <td>3</td>\n",
       "      <td>0105000020E61000000100000001020000000200000000...</td>\n",
       "    </tr>\n",
       "    <tr>\n",
       "      <th>6523</th>\n",
       "      <td>1</td>\n",
       "      <td>0105000020E61000000100000001020000000200000000...</td>\n",
       "    </tr>\n",
       "    <tr>\n",
       "      <th>6524</th>\n",
       "      <td>6</td>\n",
       "      <td>0105000020E61000000100000001020000000200000000...</td>\n",
       "    </tr>\n",
       "    <tr>\n",
       "      <th>6525</th>\n",
       "      <td>1</td>\n",
       "      <td>0105000020E61000000100000001020000000200000000...</td>\n",
       "    </tr>\n",
       "    <tr>\n",
       "      <th>6526</th>\n",
       "      <td>1</td>\n",
       "      <td>0105000020E61000000100000001020000000200000000...</td>\n",
       "    </tr>\n",
       "    <tr>\n",
       "      <th>6527</th>\n",
       "      <td>2</td>\n",
       "      <td>0105000020E61000000100000001020000000200000000...</td>\n",
       "    </tr>\n",
       "    <tr>\n",
       "      <th>6528</th>\n",
       "      <td>2</td>\n",
       "      <td>0105000020E61000000100000001020000000200000000...</td>\n",
       "    </tr>\n",
       "    <tr>\n",
       "      <th>6529</th>\n",
       "      <td>2</td>\n",
       "      <td>0105000020E61000000100000001020000000200000000...</td>\n",
       "    </tr>\n",
       "    <tr>\n",
       "      <th>6530</th>\n",
       "      <td>1</td>\n",
       "      <td>0105000020E61000000100000001020000000200000000...</td>\n",
       "    </tr>\n",
       "    <tr>\n",
       "      <th>6531</th>\n",
       "      <td>1</td>\n",
       "      <td>0105000020E61000000100000001020000000200000000...</td>\n",
       "    </tr>\n",
       "    <tr>\n",
       "      <th>6532</th>\n",
       "      <td>1</td>\n",
       "      <td>0105000020E61000000100000001020000000200000000...</td>\n",
       "    </tr>\n",
       "    <tr>\n",
       "      <th>6533</th>\n",
       "      <td>1</td>\n",
       "      <td>0105000020E61000000100000001020000000200000000...</td>\n",
       "    </tr>\n",
       "    <tr>\n",
       "      <th>6534</th>\n",
       "      <td>1</td>\n",
       "      <td>0105000020E61000000100000001020000000200000000...</td>\n",
       "    </tr>\n",
       "    <tr>\n",
       "      <th>6535</th>\n",
       "      <td>2</td>\n",
       "      <td>0105000020E61000000100000001020000000200000000...</td>\n",
       "    </tr>\n",
       "    <tr>\n",
       "      <th>6536</th>\n",
       "      <td>1</td>\n",
       "      <td>0105000020E61000000100000001020000000200000000...</td>\n",
       "    </tr>\n",
       "    <tr>\n",
       "      <th>6537</th>\n",
       "      <td>1</td>\n",
       "      <td>0105000020E61000000100000001020000000200000000...</td>\n",
       "    </tr>\n",
       "    <tr>\n",
       "      <th>6538</th>\n",
       "      <td>1</td>\n",
       "      <td>0105000020E61000000100000001020000000200000000...</td>\n",
       "    </tr>\n",
       "    <tr>\n",
       "      <th>6539</th>\n",
       "      <td>3</td>\n",
       "      <td>0105000020E61000000100000001020000000200000000...</td>\n",
       "    </tr>\n",
       "    <tr>\n",
       "      <th>6540</th>\n",
       "      <td>1</td>\n",
       "      <td>0105000020E61000000100000001020000000200000000...</td>\n",
       "    </tr>\n",
       "    <tr>\n",
       "      <th>6541</th>\n",
       "      <td>2</td>\n",
       "      <td>0105000020E61000000100000001020000000200000000...</td>\n",
       "    </tr>\n",
       "    <tr>\n",
       "      <th>6542</th>\n",
       "      <td>1</td>\n",
       "      <td>0105000020E61000000100000001020000000200000000...</td>\n",
       "    </tr>\n",
       "    <tr>\n",
       "      <th>6543</th>\n",
       "      <td>1</td>\n",
       "      <td>0105000020E61000000100000001020000000200000000...</td>\n",
       "    </tr>\n",
       "    <tr>\n",
       "      <th>6544</th>\n",
       "      <td>1</td>\n",
       "      <td>0105000020E61000000100000001020000000200000000...</td>\n",
       "    </tr>\n",
       "  </tbody>\n",
       "</table>\n",
       "<p>6544 rows × 2 columns</p>\n",
       "</div>"
      ],
      "text/plain": [
       "            sum                                           the_geom\n",
       "cartodb_id                                                        \n",
       "1             1  0105000020E61000000100000001020000000200000000...\n",
       "2             1  0105000020E61000000100000001020000000200000000...\n",
       "3             1  0105000020E61000000100000001020000000200000000...\n",
       "4             1  0105000020E61000000100000001020000000200000000...\n",
       "5             1  0105000020E61000000100000001020000000200000000...\n",
       "6             1  0105000020E61000000100000001020000000200000000...\n",
       "7             1  0105000020E61000000100000001020000000200000000...\n",
       "8             1  0105000020E61000000100000001020000000200000000...\n",
       "9             1  0105000020E61000000100000001020000000200000000...\n",
       "10            1  0105000020E61000000100000001020000000200000000...\n",
       "11            1  0105000020E61000000100000001020000000200000000...\n",
       "12            2  0105000020E61000000100000001020000000200000000...\n",
       "13            2  0105000020E61000000100000001020000000200000000...\n",
       "14            1  0105000020E61000000100000001020000000200000000...\n",
       "15            1  0105000020E61000000100000001020000000200000000...\n",
       "16            1  0105000020E61000000100000001020000000200000000...\n",
       "17            1  0105000020E61000000100000001020000000200000000...\n",
       "18            1  0105000020E61000000100000001020000000200000000...\n",
       "19            2  0105000020E61000000100000001020000000200000000...\n",
       "20            1  0105000020E61000000100000001020000000200000000...\n",
       "21            1  0105000020E61000000100000001020000000200000000...\n",
       "22            1  0105000020E61000000100000001020000000200000000...\n",
       "23            1  0105000020E61000000100000001020000000200000000...\n",
       "24            1  0105000020E61000000100000001020000000200000000...\n",
       "25            2  0105000020E61000000100000001020000000200000000...\n",
       "26            1  0105000020E61000000100000001020000000200000000...\n",
       "27            1  0105000020E61000000100000001020000000200000000...\n",
       "28            2  0105000020E61000000100000001020000000200000000...\n",
       "29            1  0105000020E61000000100000001020000000200000000...\n",
       "30            1  0105000020E61000000100000001020000000200000000...\n",
       "...         ...                                                ...\n",
       "6515          1  0105000020E61000000100000001020000000200000000...\n",
       "6516          1  0105000020E61000000100000001020000000200000000...\n",
       "6517          3  0105000020E61000000100000001020000000200000000...\n",
       "6518          1  0105000020E61000000100000001020000000200000000...\n",
       "6519          2  0105000020E61000000100000001020000000200000000...\n",
       "6520          1  0105000020E61000000100000001020000000200000000...\n",
       "6521          3  0105000020E61000000100000001020000000200000000...\n",
       "6522          3  0105000020E61000000100000001020000000200000000...\n",
       "6523          1  0105000020E61000000100000001020000000200000000...\n",
       "6524          6  0105000020E61000000100000001020000000200000000...\n",
       "6525          1  0105000020E61000000100000001020000000200000000...\n",
       "6526          1  0105000020E61000000100000001020000000200000000...\n",
       "6527          2  0105000020E61000000100000001020000000200000000...\n",
       "6528          2  0105000020E61000000100000001020000000200000000...\n",
       "6529          2  0105000020E61000000100000001020000000200000000...\n",
       "6530          1  0105000020E61000000100000001020000000200000000...\n",
       "6531          1  0105000020E61000000100000001020000000200000000...\n",
       "6532          1  0105000020E61000000100000001020000000200000000...\n",
       "6533          1  0105000020E61000000100000001020000000200000000...\n",
       "6534          1  0105000020E61000000100000001020000000200000000...\n",
       "6535          2  0105000020E61000000100000001020000000200000000...\n",
       "6536          1  0105000020E61000000100000001020000000200000000...\n",
       "6537          1  0105000020E61000000100000001020000000200000000...\n",
       "6538          1  0105000020E61000000100000001020000000200000000...\n",
       "6539          3  0105000020E61000000100000001020000000200000000...\n",
       "6540          1  0105000020E61000000100000001020000000200000000...\n",
       "6541          2  0105000020E61000000100000001020000000200000000...\n",
       "6542          1  0105000020E61000000100000001020000000200000000...\n",
       "6543          1  0105000020E61000000100000001020000000200000000...\n",
       "6544          1  0105000020E61000000100000001020000000200000000...\n",
       "\n",
       "[6544 rows x 2 columns]"
      ]
     },
     "execution_count": 41,
     "metadata": {},
     "output_type": "execute_result"
    }
   ],
   "source": [
    "cc.query(make_lines_aggcount_WITH_ORIGIN_LAT_LON.format(npart), 'connectivity_lines_{}n'.format(npart))"
   ]
  },
  {
   "cell_type": "code",
   "execution_count": null,
   "metadata": {
    "collapsed": true
   },
   "outputs": [],
   "source": [
    "# Remaining styling done in CARTO."
   ]
  }
 ],
 "metadata": {
  "anaconda-cloud": {},
  "kernelspec": {
   "display_name": "py2_parcels",
   "language": "python",
   "name": "py2_parcels"
  },
  "language_info": {
   "codemirror_mode": {
    "name": "ipython",
    "version": 2
   },
   "file_extension": ".py",
   "mimetype": "text/x-python",
   "name": "python",
   "nbconvert_exporter": "python",
   "pygments_lexer": "ipython2",
   "version": "2.7.14"
  }
 },
 "nbformat": 4,
 "nbformat_minor": 2
}
